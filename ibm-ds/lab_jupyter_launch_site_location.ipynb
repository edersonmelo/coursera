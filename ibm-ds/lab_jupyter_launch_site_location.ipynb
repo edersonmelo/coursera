{
  "metadata": {
    "kernelspec": {
      "name": "python",
      "display_name": "Python (Pyodide)",
      "language": "python"
    },
    "language_info": {
      "codemirror_mode": {
        "name": "python",
        "version": 3
      },
      "file_extension": ".py",
      "mimetype": "text/x-python",
      "name": "python",
      "nbconvert_exporter": "python",
      "pygments_lexer": "ipython3",
      "version": "3.8"
    },
    "prev_pub_hash": "f3a975115a2da354291efb612386314ee2abe0082874d4754d94eb94f03a1025"
  },
  "nbformat_minor": 4,
  "nbformat": 4,
  "cells": [
    {
      "cell_type": "markdown",
      "source": "<p style=\"text-align:center\">\n    <a href=\"https://skills.network/?utm_medium=Exinfluencer&utm_source=Exinfluencer&utm_content=000026UJ&utm_term=10006555&utm_id=NA-SkillsNetwork-Channel-SkillsNetworkCoursesIBMDS0321ENSkillsNetwork26802033-2022-01-01\" target=\"_blank\">\n    <img src=\"https://cf-courses-data.s3.us.cloud-object-storage.appdomain.cloud/assets/logos/SN_web_lightmode.png\" width=\"200\" alt=\"Skills Network Logo\">\n    </a>\n</p>\n",
      "metadata": {}
    },
    {
      "cell_type": "markdown",
      "source": "# **Launch Sites Locations Analysis with Folium**\n",
      "metadata": {}
    },
    {
      "cell_type": "markdown",
      "source": "Estimated time needed: **40** minutes\n",
      "metadata": {}
    },
    {
      "cell_type": "markdown",
      "source": "The launch success rate may depend on many factors such as payload mass, orbit type, and so on. It may also depend on the location and proximities of a launch site, i.e., the initial position of rocket trajectories. Finding an optimal location for building a launch site certainly involves many factors and hopefully we could discover some of the factors by analyzing the existing launch site locations.\n",
      "metadata": {}
    },
    {
      "cell_type": "markdown",
      "source": "In the previous exploratory data analysis labs, you have visualized the SpaceX launch dataset using `matplotlib` and `seaborn` and discovered some preliminary correlations between the launch site and success rates. In this lab, you will be performing more interactive visual analytics using `Folium`.\n",
      "metadata": {}
    },
    {
      "cell_type": "markdown",
      "source": "## Objectives\n",
      "metadata": {}
    },
    {
      "cell_type": "markdown",
      "source": "This lab contains the following tasks:\n\n*   **TASK 1:** Mark all launch sites on a map\n*   **TASK 2:** Mark the success/failed launches for each site on the map\n*   **TASK 3:** Calculate the distances between a launch site to its proximities\n\nAfter completed the above tasks, you should be able to find some geographical patterns about launch sites.\n",
      "metadata": {}
    },
    {
      "cell_type": "markdown",
      "source": "Let's first import required Python packages for this lab:\n",
      "metadata": {}
    },
    {
      "cell_type": "code",
      "source": "import piplite\nawait piplite.install(['folium'])\nawait piplite.install(['pandas'])",
      "metadata": {
        "trusted": true
      },
      "outputs": [],
      "execution_count": 64
    },
    {
      "cell_type": "code",
      "source": "import folium\nimport pandas as pd",
      "metadata": {
        "trusted": true
      },
      "outputs": [],
      "execution_count": 65
    },
    {
      "cell_type": "code",
      "source": "# Import folium MarkerCluster plugin\nfrom folium.plugins import MarkerCluster\n# Import folium MousePosition plugin\nfrom folium.plugins import MousePosition\n# Import folium DivIcon plugin\nfrom folium.features import DivIcon",
      "metadata": {
        "trusted": true
      },
      "outputs": [],
      "execution_count": 66
    },
    {
      "cell_type": "markdown",
      "source": "If you need to refresh your memory about folium, you may download and refer to this previous folium lab:\n",
      "metadata": {}
    },
    {
      "cell_type": "markdown",
      "source": "[Generating Maps with Python](https://cf-courses-data.s3.us.cloud-object-storage.appdomain.cloud/IBMDeveloperSkillsNetwork-DV0101EN-SkillsNetwork/labs/v4/DV0101EN-Exercise-Generating-Maps-in-Python.ipynb)\n",
      "metadata": {}
    },
    {
      "cell_type": "code",
      "source": "## Task 1: Mark all launch sites on a map\nworld_map = folium.Map()\n#world_map\n",
      "metadata": {
        "trusted": true
      },
      "outputs": [],
      "execution_count": 67
    },
    {
      "cell_type": "markdown",
      "source": "First, let's try to add each site's location on a map using site's latitude and longitude coordinates\n",
      "metadata": {}
    },
    {
      "cell_type": "markdown",
      "source": "The following dataset with the name `spacex_launch_geo.csv` is an augmented dataset with latitude and longitude added for each site.\n",
      "metadata": {}
    },
    {
      "cell_type": "code",
      "source": "# Download and read the `spacex_launch_geo.csv`\nfrom js import fetch\nimport io\n\nURL = 'https://cf-courses-data.s3.us.cloud-object-storage.appdomain.cloud/IBM-DS0321EN-SkillsNetwork/datasets/spacex_launch_geo.csv'\nresp = await fetch(URL)\nspacex_csv_file = io.BytesIO((await resp.arrayBuffer()).to_py())\nspacex_df=pd.read_csv(spacex_csv_file)",
      "metadata": {
        "trusted": true
      },
      "outputs": [],
      "execution_count": 68
    },
    {
      "cell_type": "markdown",
      "source": "Now, you can take a look at what are the coordinates for each site.\n",
      "metadata": {}
    },
    {
      "cell_type": "code",
      "source": "# Select relevant sub-columns: `Launch Site`, `Lat(Latitude)`, `Long(Longitude)`, `class`\nspacex_df = spacex_df[['Launch Site', 'Lat', 'Long', 'class']]\nlaunch_sites_df = spacex_df.groupby(['Launch Site'], as_index=False).first()\nlaunch_sites_df = launch_sites_df[['Launch Site', 'Lat', 'Long']]\nlaunch_sites_df",
      "metadata": {
        "trusted": true
      },
      "outputs": [
        {
          "execution_count": 69,
          "output_type": "execute_result",
          "data": {
            "text/plain": "    Launch Site        Lat        Long\n0   CCAFS LC-40  28.562302  -80.577356\n1  CCAFS SLC-40  28.563197  -80.576820\n2    KSC LC-39A  28.573255  -80.646895\n3   VAFB SLC-4E  34.632834 -120.610745",
            "text/html": "<div>\n<style scoped>\n    .dataframe tbody tr th:only-of-type {\n        vertical-align: middle;\n    }\n\n    .dataframe tbody tr th {\n        vertical-align: top;\n    }\n\n    .dataframe thead th {\n        text-align: right;\n    }\n</style>\n<table border=\"1\" class=\"dataframe\">\n  <thead>\n    <tr style=\"text-align: right;\">\n      <th></th>\n      <th>Launch Site</th>\n      <th>Lat</th>\n      <th>Long</th>\n    </tr>\n  </thead>\n  <tbody>\n    <tr>\n      <th>0</th>\n      <td>CCAFS LC-40</td>\n      <td>28.562302</td>\n      <td>-80.577356</td>\n    </tr>\n    <tr>\n      <th>1</th>\n      <td>CCAFS SLC-40</td>\n      <td>28.563197</td>\n      <td>-80.576820</td>\n    </tr>\n    <tr>\n      <th>2</th>\n      <td>KSC LC-39A</td>\n      <td>28.573255</td>\n      <td>-80.646895</td>\n    </tr>\n    <tr>\n      <th>3</th>\n      <td>VAFB SLC-4E</td>\n      <td>34.632834</td>\n      <td>-120.610745</td>\n    </tr>\n  </tbody>\n</table>\n</div>"
          },
          "metadata": {}
        }
      ],
      "execution_count": 69
    },
    {
      "cell_type": "markdown",
      "source": "Above coordinates are just plain numbers that can not give you any intuitive insights about where are those launch sites. If you are very good at geography, you can interpret those numbers directly in your mind. If not, that's fine too. Let's visualize those locations by pinning them on a map.\n",
      "metadata": {}
    },
    {
      "cell_type": "markdown",
      "source": "We first need to create a folium `Map` object, with an initial center location to be NASA Johnson Space Center at Houston, Texas.\n",
      "metadata": {}
    },
    {
      "cell_type": "code",
      "source": "# Start location is NASA Johnson Space Center\nnasa_coordinate = [29.559684888503615, -95.0830971930759]\nsite_map = folium.Map(location=nasa_coordinate, zoom_start=10)",
      "metadata": {
        "trusted": true
      },
      "outputs": [],
      "execution_count": 70
    },
    {
      "cell_type": "markdown",
      "source": "We could use `folium.Circle` to add a highlighted circle area with a text label on a specific coordinate. For example,\n",
      "metadata": {}
    },
    {
      "cell_type": "code",
      "source": "# Create a blue circle at NASA Johnson Space Center's coordinate with a popup label showing its name\ncircle = folium.Circle(nasa_coordinate, radius=1000, color='#d35400', fill=True).add_child(folium.Popup('NASA Johnson Space Center'))\n# Create a blue circle at NASA Johnson Space Center's coordinate with a icon showing its name\nmarker = folium.map.Marker(\n    nasa_coordinate,\n    # Create an icon as a text label\n    icon=DivIcon(\n        icon_size=(20,20),\n        icon_anchor=(0,0),\n        html='<div style=\"font-size: 12; color:#d35400;\"><b>%s</b></div>' % 'NASA JSC',\n        )\n    )\nsite_map.add_child(circle)\nsite_map.add_child(marker)",
      "metadata": {
        "trusted": true
      },
      "outputs": [
        {
          "execution_count": 71,
          "output_type": "execute_result",
          "data": {
            "text/plain": "<folium.folium.Map at 0x623c008>",
            "text/html": "<div style=\"width:100%;\"><div style=\"position:relative;width:100%;height:0;padding-bottom:60%;\"><span style=\"color:#565656\">Make this Notebook Trusted to load map: File -> Trust Notebook</span><iframe srcdoc=\"&lt;!DOCTYPE html&gt;\n&lt;html&gt;\n&lt;head&gt;\n    \n    &lt;meta http-equiv=&quot;content-type&quot; content=&quot;text/html; charset=UTF-8&quot; /&gt;\n    \n        &lt;script&gt;\n            L_NO_TOUCH = false;\n            L_DISABLE_3D = false;\n        &lt;/script&gt;\n    \n    &lt;style&gt;html, body {width: 100%;height: 100%;margin: 0;padding: 0;}&lt;/style&gt;\n    &lt;style&gt;#map {position:absolute;top:0;bottom:0;right:0;left:0;}&lt;/style&gt;\n    &lt;script src=&quot;https://cdn.jsdelivr.net/npm/leaflet@1.9.3/dist/leaflet.js&quot;&gt;&lt;/script&gt;\n    &lt;script src=&quot;https://code.jquery.com/jquery-3.7.1.min.js&quot;&gt;&lt;/script&gt;\n    &lt;script src=&quot;https://cdn.jsdelivr.net/npm/bootstrap@5.2.2/dist/js/bootstrap.bundle.min.js&quot;&gt;&lt;/script&gt;\n    &lt;script src=&quot;https://cdnjs.cloudflare.com/ajax/libs/Leaflet.awesome-markers/2.0.2/leaflet.awesome-markers.js&quot;&gt;&lt;/script&gt;\n    &lt;link rel=&quot;stylesheet&quot; href=&quot;https://cdn.jsdelivr.net/npm/leaflet@1.9.3/dist/leaflet.css&quot;/&gt;\n    &lt;link rel=&quot;stylesheet&quot; href=&quot;https://cdn.jsdelivr.net/npm/bootstrap@5.2.2/dist/css/bootstrap.min.css&quot;/&gt;\n    &lt;link rel=&quot;stylesheet&quot; href=&quot;https://netdna.bootstrapcdn.com/bootstrap/3.0.0/css/bootstrap-glyphicons.css&quot;/&gt;\n    &lt;link rel=&quot;stylesheet&quot; href=&quot;https://cdn.jsdelivr.net/npm/@fortawesome/fontawesome-free@6.2.0/css/all.min.css&quot;/&gt;\n    &lt;link rel=&quot;stylesheet&quot; href=&quot;https://cdnjs.cloudflare.com/ajax/libs/Leaflet.awesome-markers/2.0.2/leaflet.awesome-markers.css&quot;/&gt;\n    &lt;link rel=&quot;stylesheet&quot; href=&quot;https://cdn.jsdelivr.net/gh/python-visualization/folium/folium/templates/leaflet.awesome.rotate.min.css&quot;/&gt;\n    \n            &lt;meta name=&quot;viewport&quot; content=&quot;width=device-width,\n                initial-scale=1.0, maximum-scale=1.0, user-scalable=no&quot; /&gt;\n            &lt;style&gt;\n                #map_c030d955f9e697c7a674280f1041ab81 {\n                    position: relative;\n                    width: 100.0%;\n                    height: 100.0%;\n                    left: 0.0%;\n                    top: 0.0%;\n                }\n                .leaflet-container { font-size: 1rem; }\n            &lt;/style&gt;\n        \n&lt;/head&gt;\n&lt;body&gt;\n    \n    \n            &lt;div class=&quot;folium-map&quot; id=&quot;map_c030d955f9e697c7a674280f1041ab81&quot; &gt;&lt;/div&gt;\n        \n&lt;/body&gt;\n&lt;script&gt;\n    \n    \n            var map_c030d955f9e697c7a674280f1041ab81 = L.map(\n                &quot;map_c030d955f9e697c7a674280f1041ab81&quot;,\n                {\n                    center: [29.559684888503615, -95.0830971930759],\n                    crs: L.CRS.EPSG3857,\n                    zoom: 10,\n                    zoomControl: true,\n                    preferCanvas: false,\n                }\n            );\n\n            \n\n        \n    \n            var tile_layer_4a59f581bea1d108b36f50e2ea100e12 = L.tileLayer(\n                &quot;https://tile.openstreetmap.org/{z}/{x}/{y}.png&quot;,\n                {&quot;attribution&quot;: &quot;\\u0026copy; \\u003ca href=\\&quot;https://www.openstreetmap.org/copyright\\&quot;\\u003eOpenStreetMap\\u003c/a\\u003e contributors&quot;, &quot;detectRetina&quot;: false, &quot;maxNativeZoom&quot;: 19, &quot;maxZoom&quot;: 19, &quot;minZoom&quot;: 0, &quot;noWrap&quot;: false, &quot;opacity&quot;: 1, &quot;subdomains&quot;: &quot;abc&quot;, &quot;tms&quot;: false}\n            );\n        \n    \n            tile_layer_4a59f581bea1d108b36f50e2ea100e12.addTo(map_c030d955f9e697c7a674280f1041ab81);\n        \n    \n            var circle_24fc4154c9324bca284ea937b2e40a47 = L.circle(\n                [29.559684888503615, -95.0830971930759],\n                {&quot;bubblingMouseEvents&quot;: true, &quot;color&quot;: &quot;#d35400&quot;, &quot;dashArray&quot;: null, &quot;dashOffset&quot;: null, &quot;fill&quot;: true, &quot;fillColor&quot;: &quot;#d35400&quot;, &quot;fillOpacity&quot;: 0.2, &quot;fillRule&quot;: &quot;evenodd&quot;, &quot;lineCap&quot;: &quot;round&quot;, &quot;lineJoin&quot;: &quot;round&quot;, &quot;opacity&quot;: 1.0, &quot;radius&quot;: 1000, &quot;stroke&quot;: true, &quot;weight&quot;: 3}\n            ).addTo(map_c030d955f9e697c7a674280f1041ab81);\n        \n    \n        var popup_57aeb612500398b487aa78f08dc140be = L.popup({&quot;maxWidth&quot;: &quot;100%&quot;});\n\n        \n            \n                var html_bd88ce9be99e2d0ba223c38965b6b564 = $(`&lt;div id=&quot;html_bd88ce9be99e2d0ba223c38965b6b564&quot; style=&quot;width: 100.0%; height: 100.0%;&quot;&gt;NASA Johnson Space Center&lt;/div&gt;`)[0];\n                popup_57aeb612500398b487aa78f08dc140be.setContent(html_bd88ce9be99e2d0ba223c38965b6b564);\n            \n        \n\n        circle_24fc4154c9324bca284ea937b2e40a47.bindPopup(popup_57aeb612500398b487aa78f08dc140be)\n        ;\n\n        \n    \n    \n            var marker_20212c1c841c40f68d3ea56463898760 = L.marker(\n                [29.559684888503615, -95.0830971930759],\n                {}\n            ).addTo(map_c030d955f9e697c7a674280f1041ab81);\n        \n    \n            var div_icon_4476fbf69786e328e7ae6ee51d6ebd39 = L.divIcon({&quot;className&quot;: &quot;empty&quot;, &quot;html&quot;: &quot;\\u003cdiv style=\\&quot;font-size: 12; color:#d35400;\\&quot;\\u003e\\u003cb\\u003eNASA JSC\\u003c/b\\u003e\\u003c/div\\u003e&quot;, &quot;iconAnchor&quot;: [0, 0], &quot;iconSize&quot;: [20, 20]});\n            marker_20212c1c841c40f68d3ea56463898760.setIcon(div_icon_4476fbf69786e328e7ae6ee51d6ebd39);\n        \n&lt;/script&gt;\n&lt;/html&gt;\" style=\"position:absolute;width:100%;height:100%;left:0;top:0;border:none !important;\" allowfullscreen webkitallowfullscreen mozallowfullscreen></iframe></div></div>"
          },
          "metadata": {}
        }
      ],
      "execution_count": 71
    },
    {
      "cell_type": "markdown",
      "source": "and you should find a small yellow circle near the city of Houston and you can zoom-in to see a larger circle.\n",
      "metadata": {}
    },
    {
      "cell_type": "markdown",
      "source": "Now, let's add a circle for each launch site in data frame `launch_sites`\n",
      "metadata": {}
    },
    {
      "cell_type": "markdown",
      "source": "*TODO:*  Create and add `folium.Circle` and `folium.Marker` for each launch site on the site map\n",
      "metadata": {}
    },
    {
      "cell_type": "markdown",
      "source": "An example of folium.Circle:\n",
      "metadata": {}
    },
    {
      "cell_type": "markdown",
      "source": "`folium.Circle(coordinate, radius=1000, color='#000000', fill=True).add_child(folium.Popup(...))`\n",
      "metadata": {}
    },
    {
      "cell_type": "markdown",
      "source": "An example of folium.Marker:\n",
      "metadata": {}
    },
    {
      "cell_type": "markdown",
      "source": "`folium.map.Marker(coordinate, icon=DivIcon(icon_size=(20,20),icon_anchor=(0,0), html='<div style=\"font-size: 12; color:#d35400;\"><b>%s</b></div>' % 'label', ))`\n",
      "metadata": {}
    },
    {
      "cell_type": "code",
      "source": "# Initial the map\nsite_map = folium.Map(location=nasa_coordinate, zoom_start=5)\n# For each launch site, add a Circle object based on its coordinate (Lat, Long) values. In addition, add Launch site name as a popup label\nfor index, row in launch_sites_df.iterrows():\n    #print(row['Lat'], row['Long'])\n    \n    coord = row['Lat'], row['Long']\n    site = row[\"Launch Site\"]\n    \n    # Add Folium Circle\n    # Initialize circle as an empty dictionary\n    circle = {}\n    circle[index] = folium.Circle(coord, radius=1000, color='#d35400', fill=True).add_child(folium.Popup(site))\n    \n    # Add marker\n    marker = {}\n    marker[index] = folium.map.Marker(\n    coord,\n    # Create an icon as a text label\n    icon=DivIcon(\n        icon_size=(20,20),\n        icon_anchor=(0,0),\n        html='<div style=\"font-size: 12; color:#d35400;\"><b>%s</b></div>' % site,\n        )\n    )\n    site_map.add_child(circle[index])\n    site_map.add_child(marker[index])\nsite_map",
      "metadata": {
        "trusted": true
      },
      "outputs": [
        {
          "execution_count": 72,
          "output_type": "execute_result",
          "data": {
            "text/plain": "<folium.folium.Map at 0x60225d0>",
            "text/html": "<div style=\"width:100%;\"><div style=\"position:relative;width:100%;height:0;padding-bottom:60%;\"><span style=\"color:#565656\">Make this Notebook Trusted to load map: File -> Trust Notebook</span><iframe srcdoc=\"&lt;!DOCTYPE html&gt;\n&lt;html&gt;\n&lt;head&gt;\n    \n    &lt;meta http-equiv=&quot;content-type&quot; content=&quot;text/html; charset=UTF-8&quot; /&gt;\n    \n        &lt;script&gt;\n            L_NO_TOUCH = false;\n            L_DISABLE_3D = false;\n        &lt;/script&gt;\n    \n    &lt;style&gt;html, body {width: 100%;height: 100%;margin: 0;padding: 0;}&lt;/style&gt;\n    &lt;style&gt;#map {position:absolute;top:0;bottom:0;right:0;left:0;}&lt;/style&gt;\n    &lt;script src=&quot;https://cdn.jsdelivr.net/npm/leaflet@1.9.3/dist/leaflet.js&quot;&gt;&lt;/script&gt;\n    &lt;script src=&quot;https://code.jquery.com/jquery-3.7.1.min.js&quot;&gt;&lt;/script&gt;\n    &lt;script src=&quot;https://cdn.jsdelivr.net/npm/bootstrap@5.2.2/dist/js/bootstrap.bundle.min.js&quot;&gt;&lt;/script&gt;\n    &lt;script src=&quot;https://cdnjs.cloudflare.com/ajax/libs/Leaflet.awesome-markers/2.0.2/leaflet.awesome-markers.js&quot;&gt;&lt;/script&gt;\n    &lt;link rel=&quot;stylesheet&quot; href=&quot;https://cdn.jsdelivr.net/npm/leaflet@1.9.3/dist/leaflet.css&quot;/&gt;\n    &lt;link rel=&quot;stylesheet&quot; href=&quot;https://cdn.jsdelivr.net/npm/bootstrap@5.2.2/dist/css/bootstrap.min.css&quot;/&gt;\n    &lt;link rel=&quot;stylesheet&quot; href=&quot;https://netdna.bootstrapcdn.com/bootstrap/3.0.0/css/bootstrap-glyphicons.css&quot;/&gt;\n    &lt;link rel=&quot;stylesheet&quot; href=&quot;https://cdn.jsdelivr.net/npm/@fortawesome/fontawesome-free@6.2.0/css/all.min.css&quot;/&gt;\n    &lt;link rel=&quot;stylesheet&quot; href=&quot;https://cdnjs.cloudflare.com/ajax/libs/Leaflet.awesome-markers/2.0.2/leaflet.awesome-markers.css&quot;/&gt;\n    &lt;link rel=&quot;stylesheet&quot; href=&quot;https://cdn.jsdelivr.net/gh/python-visualization/folium/folium/templates/leaflet.awesome.rotate.min.css&quot;/&gt;\n    \n            &lt;meta name=&quot;viewport&quot; content=&quot;width=device-width,\n                initial-scale=1.0, maximum-scale=1.0, user-scalable=no&quot; /&gt;\n            &lt;style&gt;\n                #map_0f9a9146eb223acdd5d01f034be7ec02 {\n                    position: relative;\n                    width: 100.0%;\n                    height: 100.0%;\n                    left: 0.0%;\n                    top: 0.0%;\n                }\n                .leaflet-container { font-size: 1rem; }\n            &lt;/style&gt;\n        \n&lt;/head&gt;\n&lt;body&gt;\n    \n    \n            &lt;div class=&quot;folium-map&quot; id=&quot;map_0f9a9146eb223acdd5d01f034be7ec02&quot; &gt;&lt;/div&gt;\n        \n&lt;/body&gt;\n&lt;script&gt;\n    \n    \n            var map_0f9a9146eb223acdd5d01f034be7ec02 = L.map(\n                &quot;map_0f9a9146eb223acdd5d01f034be7ec02&quot;,\n                {\n                    center: [29.559684888503615, -95.0830971930759],\n                    crs: L.CRS.EPSG3857,\n                    zoom: 5,\n                    zoomControl: true,\n                    preferCanvas: false,\n                }\n            );\n\n            \n\n        \n    \n            var tile_layer_eb26108003855441264ada01dce5ab08 = L.tileLayer(\n                &quot;https://tile.openstreetmap.org/{z}/{x}/{y}.png&quot;,\n                {&quot;attribution&quot;: &quot;\\u0026copy; \\u003ca href=\\&quot;https://www.openstreetmap.org/copyright\\&quot;\\u003eOpenStreetMap\\u003c/a\\u003e contributors&quot;, &quot;detectRetina&quot;: false, &quot;maxNativeZoom&quot;: 19, &quot;maxZoom&quot;: 19, &quot;minZoom&quot;: 0, &quot;noWrap&quot;: false, &quot;opacity&quot;: 1, &quot;subdomains&quot;: &quot;abc&quot;, &quot;tms&quot;: false}\n            );\n        \n    \n            tile_layer_eb26108003855441264ada01dce5ab08.addTo(map_0f9a9146eb223acdd5d01f034be7ec02);\n        \n    \n            var circle_9a0b226201747a51447b3f55700ff2c6 = L.circle(\n                [28.56230197, -80.57735648],\n                {&quot;bubblingMouseEvents&quot;: true, &quot;color&quot;: &quot;#d35400&quot;, &quot;dashArray&quot;: null, &quot;dashOffset&quot;: null, &quot;fill&quot;: true, &quot;fillColor&quot;: &quot;#d35400&quot;, &quot;fillOpacity&quot;: 0.2, &quot;fillRule&quot;: &quot;evenodd&quot;, &quot;lineCap&quot;: &quot;round&quot;, &quot;lineJoin&quot;: &quot;round&quot;, &quot;opacity&quot;: 1.0, &quot;radius&quot;: 1000, &quot;stroke&quot;: true, &quot;weight&quot;: 3}\n            ).addTo(map_0f9a9146eb223acdd5d01f034be7ec02);\n        \n    \n        var popup_79ecae1645113526d3030eb19761c472 = L.popup({&quot;maxWidth&quot;: &quot;100%&quot;});\n\n        \n            \n                var html_4acea040f62b8a33de688e75b707540a = $(`&lt;div id=&quot;html_4acea040f62b8a33de688e75b707540a&quot; style=&quot;width: 100.0%; height: 100.0%;&quot;&gt;CCAFS LC-40&lt;/div&gt;`)[0];\n                popup_79ecae1645113526d3030eb19761c472.setContent(html_4acea040f62b8a33de688e75b707540a);\n            \n        \n\n        circle_9a0b226201747a51447b3f55700ff2c6.bindPopup(popup_79ecae1645113526d3030eb19761c472)\n        ;\n\n        \n    \n    \n            var marker_7b5dd696e47600756c8afa2b9580ceef = L.marker(\n                [28.56230197, -80.57735648],\n                {}\n            ).addTo(map_0f9a9146eb223acdd5d01f034be7ec02);\n        \n    \n            var div_icon_4dd30cd259a54b76769003e0a5fd20ad = L.divIcon({&quot;className&quot;: &quot;empty&quot;, &quot;html&quot;: &quot;\\u003cdiv style=\\&quot;font-size: 12; color:#d35400;\\&quot;\\u003e\\u003cb\\u003eCCAFS LC-40\\u003c/b\\u003e\\u003c/div\\u003e&quot;, &quot;iconAnchor&quot;: [0, 0], &quot;iconSize&quot;: [20, 20]});\n            marker_7b5dd696e47600756c8afa2b9580ceef.setIcon(div_icon_4dd30cd259a54b76769003e0a5fd20ad);\n        \n    \n            var circle_e1b45f5a48e5b5dc7e654460b078fc9c = L.circle(\n                [28.56319718, -80.57682003],\n                {&quot;bubblingMouseEvents&quot;: true, &quot;color&quot;: &quot;#d35400&quot;, &quot;dashArray&quot;: null, &quot;dashOffset&quot;: null, &quot;fill&quot;: true, &quot;fillColor&quot;: &quot;#d35400&quot;, &quot;fillOpacity&quot;: 0.2, &quot;fillRule&quot;: &quot;evenodd&quot;, &quot;lineCap&quot;: &quot;round&quot;, &quot;lineJoin&quot;: &quot;round&quot;, &quot;opacity&quot;: 1.0, &quot;radius&quot;: 1000, &quot;stroke&quot;: true, &quot;weight&quot;: 3}\n            ).addTo(map_0f9a9146eb223acdd5d01f034be7ec02);\n        \n    \n        var popup_7685e48f9677837a4a8362fa3e0f8f1f = L.popup({&quot;maxWidth&quot;: &quot;100%&quot;});\n\n        \n            \n                var html_3825189b09cac2380d20c339f8d874e5 = $(`&lt;div id=&quot;html_3825189b09cac2380d20c339f8d874e5&quot; style=&quot;width: 100.0%; height: 100.0%;&quot;&gt;CCAFS SLC-40&lt;/div&gt;`)[0];\n                popup_7685e48f9677837a4a8362fa3e0f8f1f.setContent(html_3825189b09cac2380d20c339f8d874e5);\n            \n        \n\n        circle_e1b45f5a48e5b5dc7e654460b078fc9c.bindPopup(popup_7685e48f9677837a4a8362fa3e0f8f1f)\n        ;\n\n        \n    \n    \n            var marker_7dc1309e368afaacbbba7fd4c4607798 = L.marker(\n                [28.56319718, -80.57682003],\n                {}\n            ).addTo(map_0f9a9146eb223acdd5d01f034be7ec02);\n        \n    \n            var div_icon_7baf2a6f97be1f83a587bd1dd361b747 = L.divIcon({&quot;className&quot;: &quot;empty&quot;, &quot;html&quot;: &quot;\\u003cdiv style=\\&quot;font-size: 12; color:#d35400;\\&quot;\\u003e\\u003cb\\u003eCCAFS SLC-40\\u003c/b\\u003e\\u003c/div\\u003e&quot;, &quot;iconAnchor&quot;: [0, 0], &quot;iconSize&quot;: [20, 20]});\n            marker_7dc1309e368afaacbbba7fd4c4607798.setIcon(div_icon_7baf2a6f97be1f83a587bd1dd361b747);\n        \n    \n            var circle_efb15f4c15ae4c9f2400e437a843ddd0 = L.circle(\n                [28.57325457, -80.64689529],\n                {&quot;bubblingMouseEvents&quot;: true, &quot;color&quot;: &quot;#d35400&quot;, &quot;dashArray&quot;: null, &quot;dashOffset&quot;: null, &quot;fill&quot;: true, &quot;fillColor&quot;: &quot;#d35400&quot;, &quot;fillOpacity&quot;: 0.2, &quot;fillRule&quot;: &quot;evenodd&quot;, &quot;lineCap&quot;: &quot;round&quot;, &quot;lineJoin&quot;: &quot;round&quot;, &quot;opacity&quot;: 1.0, &quot;radius&quot;: 1000, &quot;stroke&quot;: true, &quot;weight&quot;: 3}\n            ).addTo(map_0f9a9146eb223acdd5d01f034be7ec02);\n        \n    \n        var popup_68fda9fc7ff904b6ebaf3c4143c12b94 = L.popup({&quot;maxWidth&quot;: &quot;100%&quot;});\n\n        \n            \n                var html_421d1297cd9a73c9f5140a08cd4afd5c = $(`&lt;div id=&quot;html_421d1297cd9a73c9f5140a08cd4afd5c&quot; style=&quot;width: 100.0%; height: 100.0%;&quot;&gt;KSC LC-39A&lt;/div&gt;`)[0];\n                popup_68fda9fc7ff904b6ebaf3c4143c12b94.setContent(html_421d1297cd9a73c9f5140a08cd4afd5c);\n            \n        \n\n        circle_efb15f4c15ae4c9f2400e437a843ddd0.bindPopup(popup_68fda9fc7ff904b6ebaf3c4143c12b94)\n        ;\n\n        \n    \n    \n            var marker_c2ec8d8e31444a8f367011ead140a54e = L.marker(\n                [28.57325457, -80.64689529],\n                {}\n            ).addTo(map_0f9a9146eb223acdd5d01f034be7ec02);\n        \n    \n            var div_icon_8dbbfc3db730b39908b6f96a14effca8 = L.divIcon({&quot;className&quot;: &quot;empty&quot;, &quot;html&quot;: &quot;\\u003cdiv style=\\&quot;font-size: 12; color:#d35400;\\&quot;\\u003e\\u003cb\\u003eKSC LC-39A\\u003c/b\\u003e\\u003c/div\\u003e&quot;, &quot;iconAnchor&quot;: [0, 0], &quot;iconSize&quot;: [20, 20]});\n            marker_c2ec8d8e31444a8f367011ead140a54e.setIcon(div_icon_8dbbfc3db730b39908b6f96a14effca8);\n        \n    \n            var circle_ed7ccf0480f16c5fcf493339328421b5 = L.circle(\n                [34.63283416, -120.6107455],\n                {&quot;bubblingMouseEvents&quot;: true, &quot;color&quot;: &quot;#d35400&quot;, &quot;dashArray&quot;: null, &quot;dashOffset&quot;: null, &quot;fill&quot;: true, &quot;fillColor&quot;: &quot;#d35400&quot;, &quot;fillOpacity&quot;: 0.2, &quot;fillRule&quot;: &quot;evenodd&quot;, &quot;lineCap&quot;: &quot;round&quot;, &quot;lineJoin&quot;: &quot;round&quot;, &quot;opacity&quot;: 1.0, &quot;radius&quot;: 1000, &quot;stroke&quot;: true, &quot;weight&quot;: 3}\n            ).addTo(map_0f9a9146eb223acdd5d01f034be7ec02);\n        \n    \n        var popup_69f4ffbf796897625b101fed0a3691c9 = L.popup({&quot;maxWidth&quot;: &quot;100%&quot;});\n\n        \n            \n                var html_fc04d323a270ca55b65d1c6d31b1c63a = $(`&lt;div id=&quot;html_fc04d323a270ca55b65d1c6d31b1c63a&quot; style=&quot;width: 100.0%; height: 100.0%;&quot;&gt;VAFB SLC-4E&lt;/div&gt;`)[0];\n                popup_69f4ffbf796897625b101fed0a3691c9.setContent(html_fc04d323a270ca55b65d1c6d31b1c63a);\n            \n        \n\n        circle_ed7ccf0480f16c5fcf493339328421b5.bindPopup(popup_69f4ffbf796897625b101fed0a3691c9)\n        ;\n\n        \n    \n    \n            var marker_50304359d43bff829ae82b8cae0e239b = L.marker(\n                [34.63283416, -120.6107455],\n                {}\n            ).addTo(map_0f9a9146eb223acdd5d01f034be7ec02);\n        \n    \n            var div_icon_27296899a2cd601c8a49002ae4df90e6 = L.divIcon({&quot;className&quot;: &quot;empty&quot;, &quot;html&quot;: &quot;\\u003cdiv style=\\&quot;font-size: 12; color:#d35400;\\&quot;\\u003e\\u003cb\\u003eVAFB SLC-4E\\u003c/b\\u003e\\u003c/div\\u003e&quot;, &quot;iconAnchor&quot;: [0, 0], &quot;iconSize&quot;: [20, 20]});\n            marker_50304359d43bff829ae82b8cae0e239b.setIcon(div_icon_27296899a2cd601c8a49002ae4df90e6);\n        \n&lt;/script&gt;\n&lt;/html&gt;\" style=\"position:absolute;width:100%;height:100%;left:0;top:0;border:none !important;\" allowfullscreen webkitallowfullscreen mozallowfullscreen></iframe></div></div>"
          },
          "metadata": {}
        }
      ],
      "execution_count": 72
    },
    {
      "cell_type": "markdown",
      "source": "The generated map with marked launch sites should look similar to the following:\n",
      "metadata": {}
    },
    {
      "cell_type": "markdown",
      "source": "<center>\n    <img src=\"https://cf-courses-data.s3.us.cloud-object-storage.appdomain.cloud/IBM-DS0321EN-SkillsNetwork/labs/module_3/images/launch_site_markers.png\">\n</center>\n",
      "metadata": {}
    },
    {
      "cell_type": "markdown",
      "source": "Now, you can explore the map by zoom-in/out the marked areas\n, and try to answer the following questions:\n\n*   Are all launch sites in proximity to the Equator line?\n*   Are all launch sites in very close proximity to the coast?\n\nAlso please try to explain your findings.\n",
      "metadata": {}
    },
    {
      "cell_type": "code",
      "source": "# Task 2: Mark the success/failed launches for each site on the map\n",
      "metadata": {
        "trusted": true
      },
      "outputs": [],
      "execution_count": 73
    },
    {
      "cell_type": "markdown",
      "source": "Next, let's try to enhance the map by adding the launch outcomes for each site, and see which sites have high success rates.\nRecall that data frame spacex_df has detailed launch records, and the `class` column indicates if this launch was successful or not\n",
      "metadata": {}
    },
    {
      "cell_type": "code",
      "source": "spacex_df.tail(10)",
      "metadata": {
        "trusted": true
      },
      "outputs": [
        {
          "execution_count": 74,
          "output_type": "execute_result",
          "data": {
            "text/plain": "     Launch Site        Lat       Long  class\n46    KSC LC-39A  28.573255 -80.646895      1\n47    KSC LC-39A  28.573255 -80.646895      1\n48    KSC LC-39A  28.573255 -80.646895      1\n49  CCAFS SLC-40  28.563197 -80.576820      1\n50  CCAFS SLC-40  28.563197 -80.576820      1\n51  CCAFS SLC-40  28.563197 -80.576820      0\n52  CCAFS SLC-40  28.563197 -80.576820      0\n53  CCAFS SLC-40  28.563197 -80.576820      0\n54  CCAFS SLC-40  28.563197 -80.576820      1\n55  CCAFS SLC-40  28.563197 -80.576820      0",
            "text/html": "<div>\n<style scoped>\n    .dataframe tbody tr th:only-of-type {\n        vertical-align: middle;\n    }\n\n    .dataframe tbody tr th {\n        vertical-align: top;\n    }\n\n    .dataframe thead th {\n        text-align: right;\n    }\n</style>\n<table border=\"1\" class=\"dataframe\">\n  <thead>\n    <tr style=\"text-align: right;\">\n      <th></th>\n      <th>Launch Site</th>\n      <th>Lat</th>\n      <th>Long</th>\n      <th>class</th>\n    </tr>\n  </thead>\n  <tbody>\n    <tr>\n      <th>46</th>\n      <td>KSC LC-39A</td>\n      <td>28.573255</td>\n      <td>-80.646895</td>\n      <td>1</td>\n    </tr>\n    <tr>\n      <th>47</th>\n      <td>KSC LC-39A</td>\n      <td>28.573255</td>\n      <td>-80.646895</td>\n      <td>1</td>\n    </tr>\n    <tr>\n      <th>48</th>\n      <td>KSC LC-39A</td>\n      <td>28.573255</td>\n      <td>-80.646895</td>\n      <td>1</td>\n    </tr>\n    <tr>\n      <th>49</th>\n      <td>CCAFS SLC-40</td>\n      <td>28.563197</td>\n      <td>-80.576820</td>\n      <td>1</td>\n    </tr>\n    <tr>\n      <th>50</th>\n      <td>CCAFS SLC-40</td>\n      <td>28.563197</td>\n      <td>-80.576820</td>\n      <td>1</td>\n    </tr>\n    <tr>\n      <th>51</th>\n      <td>CCAFS SLC-40</td>\n      <td>28.563197</td>\n      <td>-80.576820</td>\n      <td>0</td>\n    </tr>\n    <tr>\n      <th>52</th>\n      <td>CCAFS SLC-40</td>\n      <td>28.563197</td>\n      <td>-80.576820</td>\n      <td>0</td>\n    </tr>\n    <tr>\n      <th>53</th>\n      <td>CCAFS SLC-40</td>\n      <td>28.563197</td>\n      <td>-80.576820</td>\n      <td>0</td>\n    </tr>\n    <tr>\n      <th>54</th>\n      <td>CCAFS SLC-40</td>\n      <td>28.563197</td>\n      <td>-80.576820</td>\n      <td>1</td>\n    </tr>\n    <tr>\n      <th>55</th>\n      <td>CCAFS SLC-40</td>\n      <td>28.563197</td>\n      <td>-80.576820</td>\n      <td>0</td>\n    </tr>\n  </tbody>\n</table>\n</div>"
          },
          "metadata": {}
        }
      ],
      "execution_count": 74
    },
    {
      "cell_type": "markdown",
      "source": "Next, let's create markers for all launch records.\nIf a launch was successful `(class=1)`, then we use a green marker and if a launch was failed, we use a red marker `(class=0)`\n",
      "metadata": {}
    },
    {
      "cell_type": "markdown",
      "source": "Note that a launch only happens in one of the four launch sites, which means many launch records will have the exact same coordinate. Marker clusters can be a good way to simplify a map containing many markers having the same coordinate.\n",
      "metadata": {}
    },
    {
      "cell_type": "markdown",
      "source": "Let's first create a `MarkerCluster` object\n",
      "metadata": {}
    },
    {
      "cell_type": "code",
      "source": "marker_cluster = MarkerCluster()\n",
      "metadata": {
        "trusted": true
      },
      "outputs": [],
      "execution_count": 75
    },
    {
      "cell_type": "markdown",
      "source": "*TODO:* Create a new column in `spacex_df` dataframe called `marker_color` to store the marker colors based on the `class` value\n",
      "metadata": {}
    },
    {
      "cell_type": "code",
      "source": "\n# Apply a function to check the value of `class` column\n# If class=1, marker_color value will be green\n# If class=0, marker_color value will be red\nimport numpy as np\n\nspacex_df['marker_color'] = np.where(spacex_df['class'] == 1, '#00FF00', '#FF0000')\nspacex_df.tail()",
      "metadata": {
        "trusted": true
      },
      "outputs": [
        {
          "execution_count": 76,
          "output_type": "execute_result",
          "data": {
            "text/plain": "     Launch Site        Lat      Long  class marker_color\n51  CCAFS SLC-40  28.563197 -80.57682      0      #FF0000\n52  CCAFS SLC-40  28.563197 -80.57682      0      #FF0000\n53  CCAFS SLC-40  28.563197 -80.57682      0      #FF0000\n54  CCAFS SLC-40  28.563197 -80.57682      1      #00FF00\n55  CCAFS SLC-40  28.563197 -80.57682      0      #FF0000",
            "text/html": "<div>\n<style scoped>\n    .dataframe tbody tr th:only-of-type {\n        vertical-align: middle;\n    }\n\n    .dataframe tbody tr th {\n        vertical-align: top;\n    }\n\n    .dataframe thead th {\n        text-align: right;\n    }\n</style>\n<table border=\"1\" class=\"dataframe\">\n  <thead>\n    <tr style=\"text-align: right;\">\n      <th></th>\n      <th>Launch Site</th>\n      <th>Lat</th>\n      <th>Long</th>\n      <th>class</th>\n      <th>marker_color</th>\n    </tr>\n  </thead>\n  <tbody>\n    <tr>\n      <th>51</th>\n      <td>CCAFS SLC-40</td>\n      <td>28.563197</td>\n      <td>-80.57682</td>\n      <td>0</td>\n      <td>#FF0000</td>\n    </tr>\n    <tr>\n      <th>52</th>\n      <td>CCAFS SLC-40</td>\n      <td>28.563197</td>\n      <td>-80.57682</td>\n      <td>0</td>\n      <td>#FF0000</td>\n    </tr>\n    <tr>\n      <th>53</th>\n      <td>CCAFS SLC-40</td>\n      <td>28.563197</td>\n      <td>-80.57682</td>\n      <td>0</td>\n      <td>#FF0000</td>\n    </tr>\n    <tr>\n      <th>54</th>\n      <td>CCAFS SLC-40</td>\n      <td>28.563197</td>\n      <td>-80.57682</td>\n      <td>1</td>\n      <td>#00FF00</td>\n    </tr>\n    <tr>\n      <th>55</th>\n      <td>CCAFS SLC-40</td>\n      <td>28.563197</td>\n      <td>-80.57682</td>\n      <td>0</td>\n      <td>#FF0000</td>\n    </tr>\n  </tbody>\n</table>\n</div>"
          },
          "metadata": {}
        }
      ],
      "execution_count": 76
    },
    {
      "cell_type": "markdown",
      "source": "*TODO:* For each launch result in `spacex_df` data frame, add a `folium.Marker` to `marker_cluster`\n",
      "metadata": {}
    },
    {
      "cell_type": "code",
      "source": "# Assuming 'Lat' and 'Long' columns exist in your DataFrame for coordinates\nfor index, record in spacex_df.iterrows():\n    coord = [record['Lat'], record['Long']]\n    site = record['Launch Site']\n    color = record['marker_color']\n    \n    # Create a marker\n    marker = folium.Marker(\n        coord,\n        # Create an icon as a text label with the given color and site name\n        icon=DivIcon(\n            icon_size=(20, 20),\n            icon_anchor=(0, 0),\n            html=f'<div style=\"font-size: 12; color:{color};\"><b>{site}</b></div>'\n        )\n    )\n    \n    # Add the marker to the marker cluster\n    marker_cluster.add_child(marker)\n\n# Display the map with marker cluster\nsite_map",
      "metadata": {
        "trusted": true
      },
      "outputs": [
        {
          "execution_count": 77,
          "output_type": "execute_result",
          "data": {
            "text/plain": "<folium.folium.Map at 0x60225d0>",
            "text/html": "<div style=\"width:100%;\"><div style=\"position:relative;width:100%;height:0;padding-bottom:60%;\"><span style=\"color:#565656\">Make this Notebook Trusted to load map: File -> Trust Notebook</span><iframe srcdoc=\"&lt;!DOCTYPE html&gt;\n&lt;html&gt;\n&lt;head&gt;\n    \n    &lt;meta http-equiv=&quot;content-type&quot; content=&quot;text/html; charset=UTF-8&quot; /&gt;\n    \n        &lt;script&gt;\n            L_NO_TOUCH = false;\n            L_DISABLE_3D = false;\n        &lt;/script&gt;\n    \n    &lt;style&gt;html, body {width: 100%;height: 100%;margin: 0;padding: 0;}&lt;/style&gt;\n    &lt;style&gt;#map {position:absolute;top:0;bottom:0;right:0;left:0;}&lt;/style&gt;\n    &lt;script src=&quot;https://cdn.jsdelivr.net/npm/leaflet@1.9.3/dist/leaflet.js&quot;&gt;&lt;/script&gt;\n    &lt;script src=&quot;https://code.jquery.com/jquery-3.7.1.min.js&quot;&gt;&lt;/script&gt;\n    &lt;script src=&quot;https://cdn.jsdelivr.net/npm/bootstrap@5.2.2/dist/js/bootstrap.bundle.min.js&quot;&gt;&lt;/script&gt;\n    &lt;script src=&quot;https://cdnjs.cloudflare.com/ajax/libs/Leaflet.awesome-markers/2.0.2/leaflet.awesome-markers.js&quot;&gt;&lt;/script&gt;\n    &lt;link rel=&quot;stylesheet&quot; href=&quot;https://cdn.jsdelivr.net/npm/leaflet@1.9.3/dist/leaflet.css&quot;/&gt;\n    &lt;link rel=&quot;stylesheet&quot; href=&quot;https://cdn.jsdelivr.net/npm/bootstrap@5.2.2/dist/css/bootstrap.min.css&quot;/&gt;\n    &lt;link rel=&quot;stylesheet&quot; href=&quot;https://netdna.bootstrapcdn.com/bootstrap/3.0.0/css/bootstrap-glyphicons.css&quot;/&gt;\n    &lt;link rel=&quot;stylesheet&quot; href=&quot;https://cdn.jsdelivr.net/npm/@fortawesome/fontawesome-free@6.2.0/css/all.min.css&quot;/&gt;\n    &lt;link rel=&quot;stylesheet&quot; href=&quot;https://cdnjs.cloudflare.com/ajax/libs/Leaflet.awesome-markers/2.0.2/leaflet.awesome-markers.css&quot;/&gt;\n    &lt;link rel=&quot;stylesheet&quot; href=&quot;https://cdn.jsdelivr.net/gh/python-visualization/folium/folium/templates/leaflet.awesome.rotate.min.css&quot;/&gt;\n    \n            &lt;meta name=&quot;viewport&quot; content=&quot;width=device-width,\n                initial-scale=1.0, maximum-scale=1.0, user-scalable=no&quot; /&gt;\n            &lt;style&gt;\n                #map_0f9a9146eb223acdd5d01f034be7ec02 {\n                    position: relative;\n                    width: 100.0%;\n                    height: 100.0%;\n                    left: 0.0%;\n                    top: 0.0%;\n                }\n                .leaflet-container { font-size: 1rem; }\n            &lt;/style&gt;\n        \n&lt;/head&gt;\n&lt;body&gt;\n    \n    \n            &lt;div class=&quot;folium-map&quot; id=&quot;map_0f9a9146eb223acdd5d01f034be7ec02&quot; &gt;&lt;/div&gt;\n        \n&lt;/body&gt;\n&lt;script&gt;\n    \n    \n            var map_0f9a9146eb223acdd5d01f034be7ec02 = L.map(\n                &quot;map_0f9a9146eb223acdd5d01f034be7ec02&quot;,\n                {\n                    center: [29.559684888503615, -95.0830971930759],\n                    crs: L.CRS.EPSG3857,\n                    zoom: 5,\n                    zoomControl: true,\n                    preferCanvas: false,\n                }\n            );\n\n            \n\n        \n    \n            var tile_layer_eb26108003855441264ada01dce5ab08 = L.tileLayer(\n                &quot;https://tile.openstreetmap.org/{z}/{x}/{y}.png&quot;,\n                {&quot;attribution&quot;: &quot;\\u0026copy; \\u003ca href=\\&quot;https://www.openstreetmap.org/copyright\\&quot;\\u003eOpenStreetMap\\u003c/a\\u003e contributors&quot;, &quot;detectRetina&quot;: false, &quot;maxNativeZoom&quot;: 19, &quot;maxZoom&quot;: 19, &quot;minZoom&quot;: 0, &quot;noWrap&quot;: false, &quot;opacity&quot;: 1, &quot;subdomains&quot;: &quot;abc&quot;, &quot;tms&quot;: false}\n            );\n        \n    \n            tile_layer_eb26108003855441264ada01dce5ab08.addTo(map_0f9a9146eb223acdd5d01f034be7ec02);\n        \n    \n            var circle_9a0b226201747a51447b3f55700ff2c6 = L.circle(\n                [28.56230197, -80.57735648],\n                {&quot;bubblingMouseEvents&quot;: true, &quot;color&quot;: &quot;#d35400&quot;, &quot;dashArray&quot;: null, &quot;dashOffset&quot;: null, &quot;fill&quot;: true, &quot;fillColor&quot;: &quot;#d35400&quot;, &quot;fillOpacity&quot;: 0.2, &quot;fillRule&quot;: &quot;evenodd&quot;, &quot;lineCap&quot;: &quot;round&quot;, &quot;lineJoin&quot;: &quot;round&quot;, &quot;opacity&quot;: 1.0, &quot;radius&quot;: 1000, &quot;stroke&quot;: true, &quot;weight&quot;: 3}\n            ).addTo(map_0f9a9146eb223acdd5d01f034be7ec02);\n        \n    \n        var popup_79ecae1645113526d3030eb19761c472 = L.popup({&quot;maxWidth&quot;: &quot;100%&quot;});\n\n        \n            \n                var html_4acea040f62b8a33de688e75b707540a = $(`&lt;div id=&quot;html_4acea040f62b8a33de688e75b707540a&quot; style=&quot;width: 100.0%; height: 100.0%;&quot;&gt;CCAFS LC-40&lt;/div&gt;`)[0];\n                popup_79ecae1645113526d3030eb19761c472.setContent(html_4acea040f62b8a33de688e75b707540a);\n            \n        \n\n        circle_9a0b226201747a51447b3f55700ff2c6.bindPopup(popup_79ecae1645113526d3030eb19761c472)\n        ;\n\n        \n    \n    \n            var marker_7b5dd696e47600756c8afa2b9580ceef = L.marker(\n                [28.56230197, -80.57735648],\n                {}\n            ).addTo(map_0f9a9146eb223acdd5d01f034be7ec02);\n        \n    \n            var div_icon_4dd30cd259a54b76769003e0a5fd20ad = L.divIcon({&quot;className&quot;: &quot;empty&quot;, &quot;html&quot;: &quot;\\u003cdiv style=\\&quot;font-size: 12; color:#d35400;\\&quot;\\u003e\\u003cb\\u003eCCAFS LC-40\\u003c/b\\u003e\\u003c/div\\u003e&quot;, &quot;iconAnchor&quot;: [0, 0], &quot;iconSize&quot;: [20, 20]});\n            marker_7b5dd696e47600756c8afa2b9580ceef.setIcon(div_icon_4dd30cd259a54b76769003e0a5fd20ad);\n        \n    \n            var circle_e1b45f5a48e5b5dc7e654460b078fc9c = L.circle(\n                [28.56319718, -80.57682003],\n                {&quot;bubblingMouseEvents&quot;: true, &quot;color&quot;: &quot;#d35400&quot;, &quot;dashArray&quot;: null, &quot;dashOffset&quot;: null, &quot;fill&quot;: true, &quot;fillColor&quot;: &quot;#d35400&quot;, &quot;fillOpacity&quot;: 0.2, &quot;fillRule&quot;: &quot;evenodd&quot;, &quot;lineCap&quot;: &quot;round&quot;, &quot;lineJoin&quot;: &quot;round&quot;, &quot;opacity&quot;: 1.0, &quot;radius&quot;: 1000, &quot;stroke&quot;: true, &quot;weight&quot;: 3}\n            ).addTo(map_0f9a9146eb223acdd5d01f034be7ec02);\n        \n    \n        var popup_7685e48f9677837a4a8362fa3e0f8f1f = L.popup({&quot;maxWidth&quot;: &quot;100%&quot;});\n\n        \n            \n                var html_3825189b09cac2380d20c339f8d874e5 = $(`&lt;div id=&quot;html_3825189b09cac2380d20c339f8d874e5&quot; style=&quot;width: 100.0%; height: 100.0%;&quot;&gt;CCAFS SLC-40&lt;/div&gt;`)[0];\n                popup_7685e48f9677837a4a8362fa3e0f8f1f.setContent(html_3825189b09cac2380d20c339f8d874e5);\n            \n        \n\n        circle_e1b45f5a48e5b5dc7e654460b078fc9c.bindPopup(popup_7685e48f9677837a4a8362fa3e0f8f1f)\n        ;\n\n        \n    \n    \n            var marker_7dc1309e368afaacbbba7fd4c4607798 = L.marker(\n                [28.56319718, -80.57682003],\n                {}\n            ).addTo(map_0f9a9146eb223acdd5d01f034be7ec02);\n        \n    \n            var div_icon_7baf2a6f97be1f83a587bd1dd361b747 = L.divIcon({&quot;className&quot;: &quot;empty&quot;, &quot;html&quot;: &quot;\\u003cdiv style=\\&quot;font-size: 12; color:#d35400;\\&quot;\\u003e\\u003cb\\u003eCCAFS SLC-40\\u003c/b\\u003e\\u003c/div\\u003e&quot;, &quot;iconAnchor&quot;: [0, 0], &quot;iconSize&quot;: [20, 20]});\n            marker_7dc1309e368afaacbbba7fd4c4607798.setIcon(div_icon_7baf2a6f97be1f83a587bd1dd361b747);\n        \n    \n            var circle_efb15f4c15ae4c9f2400e437a843ddd0 = L.circle(\n                [28.57325457, -80.64689529],\n                {&quot;bubblingMouseEvents&quot;: true, &quot;color&quot;: &quot;#d35400&quot;, &quot;dashArray&quot;: null, &quot;dashOffset&quot;: null, &quot;fill&quot;: true, &quot;fillColor&quot;: &quot;#d35400&quot;, &quot;fillOpacity&quot;: 0.2, &quot;fillRule&quot;: &quot;evenodd&quot;, &quot;lineCap&quot;: &quot;round&quot;, &quot;lineJoin&quot;: &quot;round&quot;, &quot;opacity&quot;: 1.0, &quot;radius&quot;: 1000, &quot;stroke&quot;: true, &quot;weight&quot;: 3}\n            ).addTo(map_0f9a9146eb223acdd5d01f034be7ec02);\n        \n    \n        var popup_68fda9fc7ff904b6ebaf3c4143c12b94 = L.popup({&quot;maxWidth&quot;: &quot;100%&quot;});\n\n        \n            \n                var html_421d1297cd9a73c9f5140a08cd4afd5c = $(`&lt;div id=&quot;html_421d1297cd9a73c9f5140a08cd4afd5c&quot; style=&quot;width: 100.0%; height: 100.0%;&quot;&gt;KSC LC-39A&lt;/div&gt;`)[0];\n                popup_68fda9fc7ff904b6ebaf3c4143c12b94.setContent(html_421d1297cd9a73c9f5140a08cd4afd5c);\n            \n        \n\n        circle_efb15f4c15ae4c9f2400e437a843ddd0.bindPopup(popup_68fda9fc7ff904b6ebaf3c4143c12b94)\n        ;\n\n        \n    \n    \n            var marker_c2ec8d8e31444a8f367011ead140a54e = L.marker(\n                [28.57325457, -80.64689529],\n                {}\n            ).addTo(map_0f9a9146eb223acdd5d01f034be7ec02);\n        \n    \n            var div_icon_8dbbfc3db730b39908b6f96a14effca8 = L.divIcon({&quot;className&quot;: &quot;empty&quot;, &quot;html&quot;: &quot;\\u003cdiv style=\\&quot;font-size: 12; color:#d35400;\\&quot;\\u003e\\u003cb\\u003eKSC LC-39A\\u003c/b\\u003e\\u003c/div\\u003e&quot;, &quot;iconAnchor&quot;: [0, 0], &quot;iconSize&quot;: [20, 20]});\n            marker_c2ec8d8e31444a8f367011ead140a54e.setIcon(div_icon_8dbbfc3db730b39908b6f96a14effca8);\n        \n    \n            var circle_ed7ccf0480f16c5fcf493339328421b5 = L.circle(\n                [34.63283416, -120.6107455],\n                {&quot;bubblingMouseEvents&quot;: true, &quot;color&quot;: &quot;#d35400&quot;, &quot;dashArray&quot;: null, &quot;dashOffset&quot;: null, &quot;fill&quot;: true, &quot;fillColor&quot;: &quot;#d35400&quot;, &quot;fillOpacity&quot;: 0.2, &quot;fillRule&quot;: &quot;evenodd&quot;, &quot;lineCap&quot;: &quot;round&quot;, &quot;lineJoin&quot;: &quot;round&quot;, &quot;opacity&quot;: 1.0, &quot;radius&quot;: 1000, &quot;stroke&quot;: true, &quot;weight&quot;: 3}\n            ).addTo(map_0f9a9146eb223acdd5d01f034be7ec02);\n        \n    \n        var popup_69f4ffbf796897625b101fed0a3691c9 = L.popup({&quot;maxWidth&quot;: &quot;100%&quot;});\n\n        \n            \n                var html_fc04d323a270ca55b65d1c6d31b1c63a = $(`&lt;div id=&quot;html_fc04d323a270ca55b65d1c6d31b1c63a&quot; style=&quot;width: 100.0%; height: 100.0%;&quot;&gt;VAFB SLC-4E&lt;/div&gt;`)[0];\n                popup_69f4ffbf796897625b101fed0a3691c9.setContent(html_fc04d323a270ca55b65d1c6d31b1c63a);\n            \n        \n\n        circle_ed7ccf0480f16c5fcf493339328421b5.bindPopup(popup_69f4ffbf796897625b101fed0a3691c9)\n        ;\n\n        \n    \n    \n            var marker_50304359d43bff829ae82b8cae0e239b = L.marker(\n                [34.63283416, -120.6107455],\n                {}\n            ).addTo(map_0f9a9146eb223acdd5d01f034be7ec02);\n        \n    \n            var div_icon_27296899a2cd601c8a49002ae4df90e6 = L.divIcon({&quot;className&quot;: &quot;empty&quot;, &quot;html&quot;: &quot;\\u003cdiv style=\\&quot;font-size: 12; color:#d35400;\\&quot;\\u003e\\u003cb\\u003eVAFB SLC-4E\\u003c/b\\u003e\\u003c/div\\u003e&quot;, &quot;iconAnchor&quot;: [0, 0], &quot;iconSize&quot;: [20, 20]});\n            marker_50304359d43bff829ae82b8cae0e239b.setIcon(div_icon_27296899a2cd601c8a49002ae4df90e6);\n        \n    \n            tile_layer_eb26108003855441264ada01dce5ab08.addTo(map_0f9a9146eb223acdd5d01f034be7ec02);\n        \n&lt;/script&gt;\n&lt;/html&gt;\" style=\"position:absolute;width:100%;height:100%;left:0;top:0;border:none !important;\" allowfullscreen webkitallowfullscreen mozallowfullscreen></iframe></div></div>"
          },
          "metadata": {}
        }
      ],
      "execution_count": 77
    },
    {
      "cell_type": "markdown",
      "source": "Your updated map may look like the following screenshots:\n",
      "metadata": {}
    },
    {
      "cell_type": "markdown",
      "source": "<center>\n    <img src=\"https://cf-courses-data.s3.us.cloud-object-storage.appdomain.cloud/IBM-DS0321EN-SkillsNetwork/labs/module_3/images/launch_site_marker_cluster.png\">\n</center>\n",
      "metadata": {}
    },
    {
      "cell_type": "markdown",
      "source": "<center>\n    <img src=\"https://cf-courses-data.s3.us.cloud-object-storage.appdomain.cloud/IBM-DS0321EN-SkillsNetwork/labs/module_3/images/launch_site_marker_cluster_zoomed.png\">\n</center>\n",
      "metadata": {}
    },
    {
      "cell_type": "markdown",
      "source": "From the color-labeled markers in marker clusters, you should be able to easily identify which launch sites have relatively high success rates.\n",
      "metadata": {}
    },
    {
      "cell_type": "code",
      "source": "# TASK 3: Calculate the distances between a launch site to its proximities\n",
      "metadata": {
        "trusted": true
      },
      "outputs": [],
      "execution_count": 78
    },
    {
      "cell_type": "markdown",
      "source": "Next, we need to explore and analyze the proximities of launch sites.\n",
      "metadata": {}
    },
    {
      "cell_type": "markdown",
      "source": "Let's first add a `MousePosition` on the map to get coordinate for a mouse over a point on the map. As such, while you are exploring the map, you can easily find the coordinates of any points of interests (such as railway)\n",
      "metadata": {}
    },
    {
      "cell_type": "code",
      "source": "# Add Mouse Position to get the coordinate (Lat, Long) for a mouse over on the map\nformatter = \"function(num) {return L.Util.formatNum(num, 5);};\"\nmouse_position = MousePosition(\n    position='topright',\n    separator=' Long: ',\n    empty_string='NaN',\n    lng_first=False,\n    num_digits=20,\n    prefix='Lat:',\n    lat_formatter=formatter,\n    lng_formatter=formatter,\n)\n\nsite_map.add_child(mouse_position)\nsite_map",
      "metadata": {
        "trusted": true
      },
      "outputs": [
        {
          "execution_count": 79,
          "output_type": "execute_result",
          "data": {
            "text/plain": "<folium.folium.Map at 0x60225d0>",
            "text/html": "<div style=\"width:100%;\"><div style=\"position:relative;width:100%;height:0;padding-bottom:60%;\"><span style=\"color:#565656\">Make this Notebook Trusted to load map: File -> Trust Notebook</span><iframe srcdoc=\"&lt;!DOCTYPE html&gt;\n&lt;html&gt;\n&lt;head&gt;\n    \n    &lt;meta http-equiv=&quot;content-type&quot; content=&quot;text/html; charset=UTF-8&quot; /&gt;\n    \n        &lt;script&gt;\n            L_NO_TOUCH = false;\n            L_DISABLE_3D = false;\n        &lt;/script&gt;\n    \n    &lt;style&gt;html, body {width: 100%;height: 100%;margin: 0;padding: 0;}&lt;/style&gt;\n    &lt;style&gt;#map {position:absolute;top:0;bottom:0;right:0;left:0;}&lt;/style&gt;\n    &lt;script src=&quot;https://cdn.jsdelivr.net/npm/leaflet@1.9.3/dist/leaflet.js&quot;&gt;&lt;/script&gt;\n    &lt;script src=&quot;https://code.jquery.com/jquery-3.7.1.min.js&quot;&gt;&lt;/script&gt;\n    &lt;script src=&quot;https://cdn.jsdelivr.net/npm/bootstrap@5.2.2/dist/js/bootstrap.bundle.min.js&quot;&gt;&lt;/script&gt;\n    &lt;script src=&quot;https://cdnjs.cloudflare.com/ajax/libs/Leaflet.awesome-markers/2.0.2/leaflet.awesome-markers.js&quot;&gt;&lt;/script&gt;\n    &lt;link rel=&quot;stylesheet&quot; href=&quot;https://cdn.jsdelivr.net/npm/leaflet@1.9.3/dist/leaflet.css&quot;/&gt;\n    &lt;link rel=&quot;stylesheet&quot; href=&quot;https://cdn.jsdelivr.net/npm/bootstrap@5.2.2/dist/css/bootstrap.min.css&quot;/&gt;\n    &lt;link rel=&quot;stylesheet&quot; href=&quot;https://netdna.bootstrapcdn.com/bootstrap/3.0.0/css/bootstrap-glyphicons.css&quot;/&gt;\n    &lt;link rel=&quot;stylesheet&quot; href=&quot;https://cdn.jsdelivr.net/npm/@fortawesome/fontawesome-free@6.2.0/css/all.min.css&quot;/&gt;\n    &lt;link rel=&quot;stylesheet&quot; href=&quot;https://cdnjs.cloudflare.com/ajax/libs/Leaflet.awesome-markers/2.0.2/leaflet.awesome-markers.css&quot;/&gt;\n    &lt;link rel=&quot;stylesheet&quot; href=&quot;https://cdn.jsdelivr.net/gh/python-visualization/folium/folium/templates/leaflet.awesome.rotate.min.css&quot;/&gt;\n    \n            &lt;meta name=&quot;viewport&quot; content=&quot;width=device-width,\n                initial-scale=1.0, maximum-scale=1.0, user-scalable=no&quot; /&gt;\n            &lt;style&gt;\n                #map_0f9a9146eb223acdd5d01f034be7ec02 {\n                    position: relative;\n                    width: 100.0%;\n                    height: 100.0%;\n                    left: 0.0%;\n                    top: 0.0%;\n                }\n                .leaflet-container { font-size: 1rem; }\n            &lt;/style&gt;\n        \n    &lt;script src=&quot;https://cdn.jsdelivr.net/gh/ardhi/Leaflet.MousePosition/src/L.Control.MousePosition.min.js&quot;&gt;&lt;/script&gt;\n    &lt;link rel=&quot;stylesheet&quot; href=&quot;https://cdn.jsdelivr.net/gh/ardhi/Leaflet.MousePosition/src/L.Control.MousePosition.min.css&quot;/&gt;\n&lt;/head&gt;\n&lt;body&gt;\n    \n    \n            &lt;div class=&quot;folium-map&quot; id=&quot;map_0f9a9146eb223acdd5d01f034be7ec02&quot; &gt;&lt;/div&gt;\n        \n&lt;/body&gt;\n&lt;script&gt;\n    \n    \n            var map_0f9a9146eb223acdd5d01f034be7ec02 = L.map(\n                &quot;map_0f9a9146eb223acdd5d01f034be7ec02&quot;,\n                {\n                    center: [29.559684888503615, -95.0830971930759],\n                    crs: L.CRS.EPSG3857,\n                    zoom: 5,\n                    zoomControl: true,\n                    preferCanvas: false,\n                }\n            );\n\n            \n\n        \n    \n            var tile_layer_eb26108003855441264ada01dce5ab08 = L.tileLayer(\n                &quot;https://tile.openstreetmap.org/{z}/{x}/{y}.png&quot;,\n                {&quot;attribution&quot;: &quot;\\u0026copy; \\u003ca href=\\&quot;https://www.openstreetmap.org/copyright\\&quot;\\u003eOpenStreetMap\\u003c/a\\u003e contributors&quot;, &quot;detectRetina&quot;: false, &quot;maxNativeZoom&quot;: 19, &quot;maxZoom&quot;: 19, &quot;minZoom&quot;: 0, &quot;noWrap&quot;: false, &quot;opacity&quot;: 1, &quot;subdomains&quot;: &quot;abc&quot;, &quot;tms&quot;: false}\n            );\n        \n    \n            tile_layer_eb26108003855441264ada01dce5ab08.addTo(map_0f9a9146eb223acdd5d01f034be7ec02);\n        \n    \n            var circle_9a0b226201747a51447b3f55700ff2c6 = L.circle(\n                [28.56230197, -80.57735648],\n                {&quot;bubblingMouseEvents&quot;: true, &quot;color&quot;: &quot;#d35400&quot;, &quot;dashArray&quot;: null, &quot;dashOffset&quot;: null, &quot;fill&quot;: true, &quot;fillColor&quot;: &quot;#d35400&quot;, &quot;fillOpacity&quot;: 0.2, &quot;fillRule&quot;: &quot;evenodd&quot;, &quot;lineCap&quot;: &quot;round&quot;, &quot;lineJoin&quot;: &quot;round&quot;, &quot;opacity&quot;: 1.0, &quot;radius&quot;: 1000, &quot;stroke&quot;: true, &quot;weight&quot;: 3}\n            ).addTo(map_0f9a9146eb223acdd5d01f034be7ec02);\n        \n    \n        var popup_79ecae1645113526d3030eb19761c472 = L.popup({&quot;maxWidth&quot;: &quot;100%&quot;});\n\n        \n            \n                var html_4acea040f62b8a33de688e75b707540a = $(`&lt;div id=&quot;html_4acea040f62b8a33de688e75b707540a&quot; style=&quot;width: 100.0%; height: 100.0%;&quot;&gt;CCAFS LC-40&lt;/div&gt;`)[0];\n                popup_79ecae1645113526d3030eb19761c472.setContent(html_4acea040f62b8a33de688e75b707540a);\n            \n        \n\n        circle_9a0b226201747a51447b3f55700ff2c6.bindPopup(popup_79ecae1645113526d3030eb19761c472)\n        ;\n\n        \n    \n    \n            var marker_7b5dd696e47600756c8afa2b9580ceef = L.marker(\n                [28.56230197, -80.57735648],\n                {}\n            ).addTo(map_0f9a9146eb223acdd5d01f034be7ec02);\n        \n    \n            var div_icon_4dd30cd259a54b76769003e0a5fd20ad = L.divIcon({&quot;className&quot;: &quot;empty&quot;, &quot;html&quot;: &quot;\\u003cdiv style=\\&quot;font-size: 12; color:#d35400;\\&quot;\\u003e\\u003cb\\u003eCCAFS LC-40\\u003c/b\\u003e\\u003c/div\\u003e&quot;, &quot;iconAnchor&quot;: [0, 0], &quot;iconSize&quot;: [20, 20]});\n            marker_7b5dd696e47600756c8afa2b9580ceef.setIcon(div_icon_4dd30cd259a54b76769003e0a5fd20ad);\n        \n    \n            var circle_e1b45f5a48e5b5dc7e654460b078fc9c = L.circle(\n                [28.56319718, -80.57682003],\n                {&quot;bubblingMouseEvents&quot;: true, &quot;color&quot;: &quot;#d35400&quot;, &quot;dashArray&quot;: null, &quot;dashOffset&quot;: null, &quot;fill&quot;: true, &quot;fillColor&quot;: &quot;#d35400&quot;, &quot;fillOpacity&quot;: 0.2, &quot;fillRule&quot;: &quot;evenodd&quot;, &quot;lineCap&quot;: &quot;round&quot;, &quot;lineJoin&quot;: &quot;round&quot;, &quot;opacity&quot;: 1.0, &quot;radius&quot;: 1000, &quot;stroke&quot;: true, &quot;weight&quot;: 3}\n            ).addTo(map_0f9a9146eb223acdd5d01f034be7ec02);\n        \n    \n        var popup_7685e48f9677837a4a8362fa3e0f8f1f = L.popup({&quot;maxWidth&quot;: &quot;100%&quot;});\n\n        \n            \n                var html_3825189b09cac2380d20c339f8d874e5 = $(`&lt;div id=&quot;html_3825189b09cac2380d20c339f8d874e5&quot; style=&quot;width: 100.0%; height: 100.0%;&quot;&gt;CCAFS SLC-40&lt;/div&gt;`)[0];\n                popup_7685e48f9677837a4a8362fa3e0f8f1f.setContent(html_3825189b09cac2380d20c339f8d874e5);\n            \n        \n\n        circle_e1b45f5a48e5b5dc7e654460b078fc9c.bindPopup(popup_7685e48f9677837a4a8362fa3e0f8f1f)\n        ;\n\n        \n    \n    \n            var marker_7dc1309e368afaacbbba7fd4c4607798 = L.marker(\n                [28.56319718, -80.57682003],\n                {}\n            ).addTo(map_0f9a9146eb223acdd5d01f034be7ec02);\n        \n    \n            var div_icon_7baf2a6f97be1f83a587bd1dd361b747 = L.divIcon({&quot;className&quot;: &quot;empty&quot;, &quot;html&quot;: &quot;\\u003cdiv style=\\&quot;font-size: 12; color:#d35400;\\&quot;\\u003e\\u003cb\\u003eCCAFS SLC-40\\u003c/b\\u003e\\u003c/div\\u003e&quot;, &quot;iconAnchor&quot;: [0, 0], &quot;iconSize&quot;: [20, 20]});\n            marker_7dc1309e368afaacbbba7fd4c4607798.setIcon(div_icon_7baf2a6f97be1f83a587bd1dd361b747);\n        \n    \n            var circle_efb15f4c15ae4c9f2400e437a843ddd0 = L.circle(\n                [28.57325457, -80.64689529],\n                {&quot;bubblingMouseEvents&quot;: true, &quot;color&quot;: &quot;#d35400&quot;, &quot;dashArray&quot;: null, &quot;dashOffset&quot;: null, &quot;fill&quot;: true, &quot;fillColor&quot;: &quot;#d35400&quot;, &quot;fillOpacity&quot;: 0.2, &quot;fillRule&quot;: &quot;evenodd&quot;, &quot;lineCap&quot;: &quot;round&quot;, &quot;lineJoin&quot;: &quot;round&quot;, &quot;opacity&quot;: 1.0, &quot;radius&quot;: 1000, &quot;stroke&quot;: true, &quot;weight&quot;: 3}\n            ).addTo(map_0f9a9146eb223acdd5d01f034be7ec02);\n        \n    \n        var popup_68fda9fc7ff904b6ebaf3c4143c12b94 = L.popup({&quot;maxWidth&quot;: &quot;100%&quot;});\n\n        \n            \n                var html_421d1297cd9a73c9f5140a08cd4afd5c = $(`&lt;div id=&quot;html_421d1297cd9a73c9f5140a08cd4afd5c&quot; style=&quot;width: 100.0%; height: 100.0%;&quot;&gt;KSC LC-39A&lt;/div&gt;`)[0];\n                popup_68fda9fc7ff904b6ebaf3c4143c12b94.setContent(html_421d1297cd9a73c9f5140a08cd4afd5c);\n            \n        \n\n        circle_efb15f4c15ae4c9f2400e437a843ddd0.bindPopup(popup_68fda9fc7ff904b6ebaf3c4143c12b94)\n        ;\n\n        \n    \n    \n            var marker_c2ec8d8e31444a8f367011ead140a54e = L.marker(\n                [28.57325457, -80.64689529],\n                {}\n            ).addTo(map_0f9a9146eb223acdd5d01f034be7ec02);\n        \n    \n            var div_icon_8dbbfc3db730b39908b6f96a14effca8 = L.divIcon({&quot;className&quot;: &quot;empty&quot;, &quot;html&quot;: &quot;\\u003cdiv style=\\&quot;font-size: 12; color:#d35400;\\&quot;\\u003e\\u003cb\\u003eKSC LC-39A\\u003c/b\\u003e\\u003c/div\\u003e&quot;, &quot;iconAnchor&quot;: [0, 0], &quot;iconSize&quot;: [20, 20]});\n            marker_c2ec8d8e31444a8f367011ead140a54e.setIcon(div_icon_8dbbfc3db730b39908b6f96a14effca8);\n        \n    \n            var circle_ed7ccf0480f16c5fcf493339328421b5 = L.circle(\n                [34.63283416, -120.6107455],\n                {&quot;bubblingMouseEvents&quot;: true, &quot;color&quot;: &quot;#d35400&quot;, &quot;dashArray&quot;: null, &quot;dashOffset&quot;: null, &quot;fill&quot;: true, &quot;fillColor&quot;: &quot;#d35400&quot;, &quot;fillOpacity&quot;: 0.2, &quot;fillRule&quot;: &quot;evenodd&quot;, &quot;lineCap&quot;: &quot;round&quot;, &quot;lineJoin&quot;: &quot;round&quot;, &quot;opacity&quot;: 1.0, &quot;radius&quot;: 1000, &quot;stroke&quot;: true, &quot;weight&quot;: 3}\n            ).addTo(map_0f9a9146eb223acdd5d01f034be7ec02);\n        \n    \n        var popup_69f4ffbf796897625b101fed0a3691c9 = L.popup({&quot;maxWidth&quot;: &quot;100%&quot;});\n\n        \n            \n                var html_fc04d323a270ca55b65d1c6d31b1c63a = $(`&lt;div id=&quot;html_fc04d323a270ca55b65d1c6d31b1c63a&quot; style=&quot;width: 100.0%; height: 100.0%;&quot;&gt;VAFB SLC-4E&lt;/div&gt;`)[0];\n                popup_69f4ffbf796897625b101fed0a3691c9.setContent(html_fc04d323a270ca55b65d1c6d31b1c63a);\n            \n        \n\n        circle_ed7ccf0480f16c5fcf493339328421b5.bindPopup(popup_69f4ffbf796897625b101fed0a3691c9)\n        ;\n\n        \n    \n    \n            var marker_50304359d43bff829ae82b8cae0e239b = L.marker(\n                [34.63283416, -120.6107455],\n                {}\n            ).addTo(map_0f9a9146eb223acdd5d01f034be7ec02);\n        \n    \n            var div_icon_27296899a2cd601c8a49002ae4df90e6 = L.divIcon({&quot;className&quot;: &quot;empty&quot;, &quot;html&quot;: &quot;\\u003cdiv style=\\&quot;font-size: 12; color:#d35400;\\&quot;\\u003e\\u003cb\\u003eVAFB SLC-4E\\u003c/b\\u003e\\u003c/div\\u003e&quot;, &quot;iconAnchor&quot;: [0, 0], &quot;iconSize&quot;: [20, 20]});\n            marker_50304359d43bff829ae82b8cae0e239b.setIcon(div_icon_27296899a2cd601c8a49002ae4df90e6);\n        \n    \n            tile_layer_eb26108003855441264ada01dce5ab08.addTo(map_0f9a9146eb223acdd5d01f034be7ec02);\n        \n    \n            tile_layer_eb26108003855441264ada01dce5ab08.addTo(map_0f9a9146eb223acdd5d01f034be7ec02);\n        \n    \n            var mouse_position_c38a78641b3ddde5ba264d2e35491241 = new L.Control.MousePosition(\n                {&quot;emptyString&quot;: &quot;NaN&quot;, &quot;lngFirst&quot;: false, &quot;numDigits&quot;: 20, &quot;position&quot;: &quot;topright&quot;, &quot;prefix&quot;: &quot;Lat:&quot;, &quot;separator&quot;: &quot; Long: &quot;}\n            );\n            mouse_position_c38a78641b3ddde5ba264d2e35491241.options[&quot;latFormatter&quot;] =\n                function(num) {return L.Util.formatNum(num, 5);};;\n            mouse_position_c38a78641b3ddde5ba264d2e35491241.options[&quot;lngFormatter&quot;] =\n                function(num) {return L.Util.formatNum(num, 5);};;\n            map_0f9a9146eb223acdd5d01f034be7ec02.addControl(mouse_position_c38a78641b3ddde5ba264d2e35491241);\n        \n&lt;/script&gt;\n&lt;/html&gt;\" style=\"position:absolute;width:100%;height:100%;left:0;top:0;border:none !important;\" allowfullscreen webkitallowfullscreen mozallowfullscreen></iframe></div></div>"
          },
          "metadata": {}
        }
      ],
      "execution_count": 79
    },
    {
      "cell_type": "markdown",
      "source": "Now zoom in to a launch site and explore its proximity to see if you can easily find any railway, highway, coastline, etc. Move your mouse to these points and mark down their coordinates (shown on the top-left) in order to the distance to the launch site.\n",
      "metadata": {}
    },
    {
      "cell_type": "markdown",
      "source": "Now zoom in to a launch site and explore its proximity to see if you can easily find any railway, highway, coastline, etc. Move your mouse to these points and mark down their coordinates (shown on the top-left) in order to the distance to the launch site.\n",
      "metadata": {}
    },
    {
      "cell_type": "code",
      "source": "from math import sin, cos, sqrt, atan2, radians\n\ndef calculate_distance(lat1, lon1, lat2, lon2):\n    # approximate radius of earth in km\n    R = 6373.0\n\n    lat1 = radians(lat1)\n    lon1 = radians(lon1)\n    lat2 = radians(lat2)\n    lon2 = radians(lon2)\n\n    dlon = lon2 - lon1\n    dlat = lat2 - lat1\n\n    a = sin(dlat / 2)**2 + cos(lat1) * cos(lat2) * sin(dlon / 2)**2\n    c = 2 * atan2(sqrt(a), sqrt(1 - a))\n\n    distance = R * c\n    return distance",
      "metadata": {
        "trusted": true
      },
      "outputs": [],
      "execution_count": 80
    },
    {
      "cell_type": "markdown",
      "source": "*TODO:* Mark down a point on the closest coastline using MousePosition and calculate the distance between the coastline point and the launch site.\n",
      "metadata": {}
    },
    {
      "cell_type": "code",
      "source": "# find coordinate of the closet coastline\nlaunch_site_lat = 28.562302  # Launch Site latitude\nlaunch_site_lon = -80.577356  # Launch Site longitude\ncoastline_lat = 28.563197  # Nearest coastline latitude\ncoastline_lon = -80.566065  # Nearest coastline longitude\n\ndistance_coastline = calculate_distance(launch_site_lat, launch_site_lon, coastline_lat, coastline_lon)\nprint(f\"Distance to coastline: {distance_coastline:.2f} km\")",
      "metadata": {
        "trusted": true
      },
      "outputs": [
        {
          "name": "stdout",
          "text": "Distance to coastline: 1.11 km\n",
          "output_type": "stream"
        }
      ],
      "execution_count": 81
    },
    {
      "cell_type": "code",
      "source": "# Create and add a folium.Marker on your selected closest coastline point on the map\n# Display the distance between coastline point and launch site using the icon property \n# for example\n# Add a folium.Marker on your selected closest coastline point on the map\ndistance_marker = folium.Marker(\n    [coastline_lat, coastline_lon],\n    icon=folium.DivIcon(\n        icon_size=(2,2),\n        icon_anchor=(0,0),\n        html='<div style=\"font-size: 12; color:#d35400;\"><b>Distance: {:.2f} km</b></div>'.format(distance_coastline)\n    )\n)\nsite_map.add_child(distance_marker)",
      "metadata": {
        "trusted": true
      },
      "outputs": [
        {
          "execution_count": 82,
          "output_type": "execute_result",
          "data": {
            "text/plain": "<folium.folium.Map at 0x60225d0>",
            "text/html": "<div style=\"width:100%;\"><div style=\"position:relative;width:100%;height:0;padding-bottom:60%;\"><span style=\"color:#565656\">Make this Notebook Trusted to load map: File -> Trust Notebook</span><iframe srcdoc=\"&lt;!DOCTYPE html&gt;\n&lt;html&gt;\n&lt;head&gt;\n    \n    &lt;meta http-equiv=&quot;content-type&quot; content=&quot;text/html; charset=UTF-8&quot; /&gt;\n    \n        &lt;script&gt;\n            L_NO_TOUCH = false;\n            L_DISABLE_3D = false;\n        &lt;/script&gt;\n    \n    &lt;style&gt;html, body {width: 100%;height: 100%;margin: 0;padding: 0;}&lt;/style&gt;\n    &lt;style&gt;#map {position:absolute;top:0;bottom:0;right:0;left:0;}&lt;/style&gt;\n    &lt;script src=&quot;https://cdn.jsdelivr.net/npm/leaflet@1.9.3/dist/leaflet.js&quot;&gt;&lt;/script&gt;\n    &lt;script src=&quot;https://code.jquery.com/jquery-3.7.1.min.js&quot;&gt;&lt;/script&gt;\n    &lt;script src=&quot;https://cdn.jsdelivr.net/npm/bootstrap@5.2.2/dist/js/bootstrap.bundle.min.js&quot;&gt;&lt;/script&gt;\n    &lt;script src=&quot;https://cdnjs.cloudflare.com/ajax/libs/Leaflet.awesome-markers/2.0.2/leaflet.awesome-markers.js&quot;&gt;&lt;/script&gt;\n    &lt;link rel=&quot;stylesheet&quot; href=&quot;https://cdn.jsdelivr.net/npm/leaflet@1.9.3/dist/leaflet.css&quot;/&gt;\n    &lt;link rel=&quot;stylesheet&quot; href=&quot;https://cdn.jsdelivr.net/npm/bootstrap@5.2.2/dist/css/bootstrap.min.css&quot;/&gt;\n    &lt;link rel=&quot;stylesheet&quot; href=&quot;https://netdna.bootstrapcdn.com/bootstrap/3.0.0/css/bootstrap-glyphicons.css&quot;/&gt;\n    &lt;link rel=&quot;stylesheet&quot; href=&quot;https://cdn.jsdelivr.net/npm/@fortawesome/fontawesome-free@6.2.0/css/all.min.css&quot;/&gt;\n    &lt;link rel=&quot;stylesheet&quot; href=&quot;https://cdnjs.cloudflare.com/ajax/libs/Leaflet.awesome-markers/2.0.2/leaflet.awesome-markers.css&quot;/&gt;\n    &lt;link rel=&quot;stylesheet&quot; href=&quot;https://cdn.jsdelivr.net/gh/python-visualization/folium/folium/templates/leaflet.awesome.rotate.min.css&quot;/&gt;\n    \n            &lt;meta name=&quot;viewport&quot; content=&quot;width=device-width,\n                initial-scale=1.0, maximum-scale=1.0, user-scalable=no&quot; /&gt;\n            &lt;style&gt;\n                #map_0f9a9146eb223acdd5d01f034be7ec02 {\n                    position: relative;\n                    width: 100.0%;\n                    height: 100.0%;\n                    left: 0.0%;\n                    top: 0.0%;\n                }\n                .leaflet-container { font-size: 1rem; }\n            &lt;/style&gt;\n        \n    &lt;script src=&quot;https://cdn.jsdelivr.net/gh/ardhi/Leaflet.MousePosition/src/L.Control.MousePosition.min.js&quot;&gt;&lt;/script&gt;\n    &lt;link rel=&quot;stylesheet&quot; href=&quot;https://cdn.jsdelivr.net/gh/ardhi/Leaflet.MousePosition/src/L.Control.MousePosition.min.css&quot;/&gt;\n&lt;/head&gt;\n&lt;body&gt;\n    \n    \n            &lt;div class=&quot;folium-map&quot; id=&quot;map_0f9a9146eb223acdd5d01f034be7ec02&quot; &gt;&lt;/div&gt;\n        \n&lt;/body&gt;\n&lt;script&gt;\n    \n    \n            var map_0f9a9146eb223acdd5d01f034be7ec02 = L.map(\n                &quot;map_0f9a9146eb223acdd5d01f034be7ec02&quot;,\n                {\n                    center: [29.559684888503615, -95.0830971930759],\n                    crs: L.CRS.EPSG3857,\n                    zoom: 5,\n                    zoomControl: true,\n                    preferCanvas: false,\n                }\n            );\n\n            \n\n        \n    \n            var tile_layer_eb26108003855441264ada01dce5ab08 = L.tileLayer(\n                &quot;https://tile.openstreetmap.org/{z}/{x}/{y}.png&quot;,\n                {&quot;attribution&quot;: &quot;\\u0026copy; \\u003ca href=\\&quot;https://www.openstreetmap.org/copyright\\&quot;\\u003eOpenStreetMap\\u003c/a\\u003e contributors&quot;, &quot;detectRetina&quot;: false, &quot;maxNativeZoom&quot;: 19, &quot;maxZoom&quot;: 19, &quot;minZoom&quot;: 0, &quot;noWrap&quot;: false, &quot;opacity&quot;: 1, &quot;subdomains&quot;: &quot;abc&quot;, &quot;tms&quot;: false}\n            );\n        \n    \n            tile_layer_eb26108003855441264ada01dce5ab08.addTo(map_0f9a9146eb223acdd5d01f034be7ec02);\n        \n    \n            var circle_9a0b226201747a51447b3f55700ff2c6 = L.circle(\n                [28.56230197, -80.57735648],\n                {&quot;bubblingMouseEvents&quot;: true, &quot;color&quot;: &quot;#d35400&quot;, &quot;dashArray&quot;: null, &quot;dashOffset&quot;: null, &quot;fill&quot;: true, &quot;fillColor&quot;: &quot;#d35400&quot;, &quot;fillOpacity&quot;: 0.2, &quot;fillRule&quot;: &quot;evenodd&quot;, &quot;lineCap&quot;: &quot;round&quot;, &quot;lineJoin&quot;: &quot;round&quot;, &quot;opacity&quot;: 1.0, &quot;radius&quot;: 1000, &quot;stroke&quot;: true, &quot;weight&quot;: 3}\n            ).addTo(map_0f9a9146eb223acdd5d01f034be7ec02);\n        \n    \n        var popup_79ecae1645113526d3030eb19761c472 = L.popup({&quot;maxWidth&quot;: &quot;100%&quot;});\n\n        \n            \n                var html_4acea040f62b8a33de688e75b707540a = $(`&lt;div id=&quot;html_4acea040f62b8a33de688e75b707540a&quot; style=&quot;width: 100.0%; height: 100.0%;&quot;&gt;CCAFS LC-40&lt;/div&gt;`)[0];\n                popup_79ecae1645113526d3030eb19761c472.setContent(html_4acea040f62b8a33de688e75b707540a);\n            \n        \n\n        circle_9a0b226201747a51447b3f55700ff2c6.bindPopup(popup_79ecae1645113526d3030eb19761c472)\n        ;\n\n        \n    \n    \n            var marker_7b5dd696e47600756c8afa2b9580ceef = L.marker(\n                [28.56230197, -80.57735648],\n                {}\n            ).addTo(map_0f9a9146eb223acdd5d01f034be7ec02);\n        \n    \n            var div_icon_4dd30cd259a54b76769003e0a5fd20ad = L.divIcon({&quot;className&quot;: &quot;empty&quot;, &quot;html&quot;: &quot;\\u003cdiv style=\\&quot;font-size: 12; color:#d35400;\\&quot;\\u003e\\u003cb\\u003eCCAFS LC-40\\u003c/b\\u003e\\u003c/div\\u003e&quot;, &quot;iconAnchor&quot;: [0, 0], &quot;iconSize&quot;: [20, 20]});\n            marker_7b5dd696e47600756c8afa2b9580ceef.setIcon(div_icon_4dd30cd259a54b76769003e0a5fd20ad);\n        \n    \n            var circle_e1b45f5a48e5b5dc7e654460b078fc9c = L.circle(\n                [28.56319718, -80.57682003],\n                {&quot;bubblingMouseEvents&quot;: true, &quot;color&quot;: &quot;#d35400&quot;, &quot;dashArray&quot;: null, &quot;dashOffset&quot;: null, &quot;fill&quot;: true, &quot;fillColor&quot;: &quot;#d35400&quot;, &quot;fillOpacity&quot;: 0.2, &quot;fillRule&quot;: &quot;evenodd&quot;, &quot;lineCap&quot;: &quot;round&quot;, &quot;lineJoin&quot;: &quot;round&quot;, &quot;opacity&quot;: 1.0, &quot;radius&quot;: 1000, &quot;stroke&quot;: true, &quot;weight&quot;: 3}\n            ).addTo(map_0f9a9146eb223acdd5d01f034be7ec02);\n        \n    \n        var popup_7685e48f9677837a4a8362fa3e0f8f1f = L.popup({&quot;maxWidth&quot;: &quot;100%&quot;});\n\n        \n            \n                var html_3825189b09cac2380d20c339f8d874e5 = $(`&lt;div id=&quot;html_3825189b09cac2380d20c339f8d874e5&quot; style=&quot;width: 100.0%; height: 100.0%;&quot;&gt;CCAFS SLC-40&lt;/div&gt;`)[0];\n                popup_7685e48f9677837a4a8362fa3e0f8f1f.setContent(html_3825189b09cac2380d20c339f8d874e5);\n            \n        \n\n        circle_e1b45f5a48e5b5dc7e654460b078fc9c.bindPopup(popup_7685e48f9677837a4a8362fa3e0f8f1f)\n        ;\n\n        \n    \n    \n            var marker_7dc1309e368afaacbbba7fd4c4607798 = L.marker(\n                [28.56319718, -80.57682003],\n                {}\n            ).addTo(map_0f9a9146eb223acdd5d01f034be7ec02);\n        \n    \n            var div_icon_7baf2a6f97be1f83a587bd1dd361b747 = L.divIcon({&quot;className&quot;: &quot;empty&quot;, &quot;html&quot;: &quot;\\u003cdiv style=\\&quot;font-size: 12; color:#d35400;\\&quot;\\u003e\\u003cb\\u003eCCAFS SLC-40\\u003c/b\\u003e\\u003c/div\\u003e&quot;, &quot;iconAnchor&quot;: [0, 0], &quot;iconSize&quot;: [20, 20]});\n            marker_7dc1309e368afaacbbba7fd4c4607798.setIcon(div_icon_7baf2a6f97be1f83a587bd1dd361b747);\n        \n    \n            var circle_efb15f4c15ae4c9f2400e437a843ddd0 = L.circle(\n                [28.57325457, -80.64689529],\n                {&quot;bubblingMouseEvents&quot;: true, &quot;color&quot;: &quot;#d35400&quot;, &quot;dashArray&quot;: null, &quot;dashOffset&quot;: null, &quot;fill&quot;: true, &quot;fillColor&quot;: &quot;#d35400&quot;, &quot;fillOpacity&quot;: 0.2, &quot;fillRule&quot;: &quot;evenodd&quot;, &quot;lineCap&quot;: &quot;round&quot;, &quot;lineJoin&quot;: &quot;round&quot;, &quot;opacity&quot;: 1.0, &quot;radius&quot;: 1000, &quot;stroke&quot;: true, &quot;weight&quot;: 3}\n            ).addTo(map_0f9a9146eb223acdd5d01f034be7ec02);\n        \n    \n        var popup_68fda9fc7ff904b6ebaf3c4143c12b94 = L.popup({&quot;maxWidth&quot;: &quot;100%&quot;});\n\n        \n            \n                var html_421d1297cd9a73c9f5140a08cd4afd5c = $(`&lt;div id=&quot;html_421d1297cd9a73c9f5140a08cd4afd5c&quot; style=&quot;width: 100.0%; height: 100.0%;&quot;&gt;KSC LC-39A&lt;/div&gt;`)[0];\n                popup_68fda9fc7ff904b6ebaf3c4143c12b94.setContent(html_421d1297cd9a73c9f5140a08cd4afd5c);\n            \n        \n\n        circle_efb15f4c15ae4c9f2400e437a843ddd0.bindPopup(popup_68fda9fc7ff904b6ebaf3c4143c12b94)\n        ;\n\n        \n    \n    \n            var marker_c2ec8d8e31444a8f367011ead140a54e = L.marker(\n                [28.57325457, -80.64689529],\n                {}\n            ).addTo(map_0f9a9146eb223acdd5d01f034be7ec02);\n        \n    \n            var div_icon_8dbbfc3db730b39908b6f96a14effca8 = L.divIcon({&quot;className&quot;: &quot;empty&quot;, &quot;html&quot;: &quot;\\u003cdiv style=\\&quot;font-size: 12; color:#d35400;\\&quot;\\u003e\\u003cb\\u003eKSC LC-39A\\u003c/b\\u003e\\u003c/div\\u003e&quot;, &quot;iconAnchor&quot;: [0, 0], &quot;iconSize&quot;: [20, 20]});\n            marker_c2ec8d8e31444a8f367011ead140a54e.setIcon(div_icon_8dbbfc3db730b39908b6f96a14effca8);\n        \n    \n            var circle_ed7ccf0480f16c5fcf493339328421b5 = L.circle(\n                [34.63283416, -120.6107455],\n                {&quot;bubblingMouseEvents&quot;: true, &quot;color&quot;: &quot;#d35400&quot;, &quot;dashArray&quot;: null, &quot;dashOffset&quot;: null, &quot;fill&quot;: true, &quot;fillColor&quot;: &quot;#d35400&quot;, &quot;fillOpacity&quot;: 0.2, &quot;fillRule&quot;: &quot;evenodd&quot;, &quot;lineCap&quot;: &quot;round&quot;, &quot;lineJoin&quot;: &quot;round&quot;, &quot;opacity&quot;: 1.0, &quot;radius&quot;: 1000, &quot;stroke&quot;: true, &quot;weight&quot;: 3}\n            ).addTo(map_0f9a9146eb223acdd5d01f034be7ec02);\n        \n    \n        var popup_69f4ffbf796897625b101fed0a3691c9 = L.popup({&quot;maxWidth&quot;: &quot;100%&quot;});\n\n        \n            \n                var html_fc04d323a270ca55b65d1c6d31b1c63a = $(`&lt;div id=&quot;html_fc04d323a270ca55b65d1c6d31b1c63a&quot; style=&quot;width: 100.0%; height: 100.0%;&quot;&gt;VAFB SLC-4E&lt;/div&gt;`)[0];\n                popup_69f4ffbf796897625b101fed0a3691c9.setContent(html_fc04d323a270ca55b65d1c6d31b1c63a);\n            \n        \n\n        circle_ed7ccf0480f16c5fcf493339328421b5.bindPopup(popup_69f4ffbf796897625b101fed0a3691c9)\n        ;\n\n        \n    \n    \n            var marker_50304359d43bff829ae82b8cae0e239b = L.marker(\n                [34.63283416, -120.6107455],\n                {}\n            ).addTo(map_0f9a9146eb223acdd5d01f034be7ec02);\n        \n    \n            var div_icon_27296899a2cd601c8a49002ae4df90e6 = L.divIcon({&quot;className&quot;: &quot;empty&quot;, &quot;html&quot;: &quot;\\u003cdiv style=\\&quot;font-size: 12; color:#d35400;\\&quot;\\u003e\\u003cb\\u003eVAFB SLC-4E\\u003c/b\\u003e\\u003c/div\\u003e&quot;, &quot;iconAnchor&quot;: [0, 0], &quot;iconSize&quot;: [20, 20]});\n            marker_50304359d43bff829ae82b8cae0e239b.setIcon(div_icon_27296899a2cd601c8a49002ae4df90e6);\n        \n    \n            tile_layer_eb26108003855441264ada01dce5ab08.addTo(map_0f9a9146eb223acdd5d01f034be7ec02);\n        \n    \n            tile_layer_eb26108003855441264ada01dce5ab08.addTo(map_0f9a9146eb223acdd5d01f034be7ec02);\n        \n    \n            var mouse_position_c38a78641b3ddde5ba264d2e35491241 = new L.Control.MousePosition(\n                {&quot;emptyString&quot;: &quot;NaN&quot;, &quot;lngFirst&quot;: false, &quot;numDigits&quot;: 20, &quot;position&quot;: &quot;topright&quot;, &quot;prefix&quot;: &quot;Lat:&quot;, &quot;separator&quot;: &quot; Long: &quot;}\n            );\n            mouse_position_c38a78641b3ddde5ba264d2e35491241.options[&quot;latFormatter&quot;] =\n                function(num) {return L.Util.formatNum(num, 5);};;\n            mouse_position_c38a78641b3ddde5ba264d2e35491241.options[&quot;lngFormatter&quot;] =\n                function(num) {return L.Util.formatNum(num, 5);};;\n            map_0f9a9146eb223acdd5d01f034be7ec02.addControl(mouse_position_c38a78641b3ddde5ba264d2e35491241);\n        \n    \n            tile_layer_eb26108003855441264ada01dce5ab08.addTo(map_0f9a9146eb223acdd5d01f034be7ec02);\n        \n    \n            var marker_c263da5ea91d1cda02d112a13282db99 = L.marker(\n                [28.563197, -80.566065],\n                {}\n            ).addTo(map_0f9a9146eb223acdd5d01f034be7ec02);\n        \n    \n            var div_icon_e4b62d18e9b23353a1cb88efc2598ec0 = L.divIcon({&quot;className&quot;: &quot;empty&quot;, &quot;html&quot;: &quot;\\u003cdiv style=\\&quot;font-size: 12; color:#d35400;\\&quot;\\u003e\\u003cb\\u003eDistance: 1.11 km\\u003c/b\\u003e\\u003c/div\\u003e&quot;, &quot;iconAnchor&quot;: [0, 0], &quot;iconSize&quot;: [2, 2]});\n            marker_c263da5ea91d1cda02d112a13282db99.setIcon(div_icon_e4b62d18e9b23353a1cb88efc2598ec0);\n        \n&lt;/script&gt;\n&lt;/html&gt;\" style=\"position:absolute;width:100%;height:100%;left:0;top:0;border:none !important;\" allowfullscreen webkitallowfullscreen mozallowfullscreen></iframe></div></div>"
          },
          "metadata": {}
        }
      ],
      "execution_count": 82
    },
    {
      "cell_type": "markdown",
      "source": "*TODO:* Draw a `PolyLine` between a launch site to the selected coastline point\n",
      "metadata": {}
    },
    {
      "cell_type": "code",
      "source": "# Create a `folium.PolyLine` object using the coastline coordinates and launch site coordinate\n# lines=folium.PolyLine(locations=coordinates, weight=1)\n# Draw a line between the launch site and the coastline\n# Draw a line between the launch site and the coastline\nfolium.PolyLine(\n    locations=[[launch_site_lat, launch_site_lon], [coastline_lat, coastline_lon]],\n    weight=3,  # Line thickness\n    color='blue'  # Line color\n).add_to(site_map)\n\nsite_map",
      "metadata": {
        "trusted": true
      },
      "outputs": [
        {
          "execution_count": 83,
          "output_type": "execute_result",
          "data": {
            "text/plain": "<folium.folium.Map at 0x60225d0>",
            "text/html": "<div style=\"width:100%;\"><div style=\"position:relative;width:100%;height:0;padding-bottom:60%;\"><span style=\"color:#565656\">Make this Notebook Trusted to load map: File -> Trust Notebook</span><iframe srcdoc=\"&lt;!DOCTYPE html&gt;\n&lt;html&gt;\n&lt;head&gt;\n    \n    &lt;meta http-equiv=&quot;content-type&quot; content=&quot;text/html; charset=UTF-8&quot; /&gt;\n    \n        &lt;script&gt;\n            L_NO_TOUCH = false;\n            L_DISABLE_3D = false;\n        &lt;/script&gt;\n    \n    &lt;style&gt;html, body {width: 100%;height: 100%;margin: 0;padding: 0;}&lt;/style&gt;\n    &lt;style&gt;#map {position:absolute;top:0;bottom:0;right:0;left:0;}&lt;/style&gt;\n    &lt;script src=&quot;https://cdn.jsdelivr.net/npm/leaflet@1.9.3/dist/leaflet.js&quot;&gt;&lt;/script&gt;\n    &lt;script src=&quot;https://code.jquery.com/jquery-3.7.1.min.js&quot;&gt;&lt;/script&gt;\n    &lt;script src=&quot;https://cdn.jsdelivr.net/npm/bootstrap@5.2.2/dist/js/bootstrap.bundle.min.js&quot;&gt;&lt;/script&gt;\n    &lt;script src=&quot;https://cdnjs.cloudflare.com/ajax/libs/Leaflet.awesome-markers/2.0.2/leaflet.awesome-markers.js&quot;&gt;&lt;/script&gt;\n    &lt;link rel=&quot;stylesheet&quot; href=&quot;https://cdn.jsdelivr.net/npm/leaflet@1.9.3/dist/leaflet.css&quot;/&gt;\n    &lt;link rel=&quot;stylesheet&quot; href=&quot;https://cdn.jsdelivr.net/npm/bootstrap@5.2.2/dist/css/bootstrap.min.css&quot;/&gt;\n    &lt;link rel=&quot;stylesheet&quot; href=&quot;https://netdna.bootstrapcdn.com/bootstrap/3.0.0/css/bootstrap-glyphicons.css&quot;/&gt;\n    &lt;link rel=&quot;stylesheet&quot; href=&quot;https://cdn.jsdelivr.net/npm/@fortawesome/fontawesome-free@6.2.0/css/all.min.css&quot;/&gt;\n    &lt;link rel=&quot;stylesheet&quot; href=&quot;https://cdnjs.cloudflare.com/ajax/libs/Leaflet.awesome-markers/2.0.2/leaflet.awesome-markers.css&quot;/&gt;\n    &lt;link rel=&quot;stylesheet&quot; href=&quot;https://cdn.jsdelivr.net/gh/python-visualization/folium/folium/templates/leaflet.awesome.rotate.min.css&quot;/&gt;\n    \n            &lt;meta name=&quot;viewport&quot; content=&quot;width=device-width,\n                initial-scale=1.0, maximum-scale=1.0, user-scalable=no&quot; /&gt;\n            &lt;style&gt;\n                #map_0f9a9146eb223acdd5d01f034be7ec02 {\n                    position: relative;\n                    width: 100.0%;\n                    height: 100.0%;\n                    left: 0.0%;\n                    top: 0.0%;\n                }\n                .leaflet-container { font-size: 1rem; }\n            &lt;/style&gt;\n        \n    &lt;script src=&quot;https://cdn.jsdelivr.net/gh/ardhi/Leaflet.MousePosition/src/L.Control.MousePosition.min.js&quot;&gt;&lt;/script&gt;\n    &lt;link rel=&quot;stylesheet&quot; href=&quot;https://cdn.jsdelivr.net/gh/ardhi/Leaflet.MousePosition/src/L.Control.MousePosition.min.css&quot;/&gt;\n&lt;/head&gt;\n&lt;body&gt;\n    \n    \n            &lt;div class=&quot;folium-map&quot; id=&quot;map_0f9a9146eb223acdd5d01f034be7ec02&quot; &gt;&lt;/div&gt;\n        \n&lt;/body&gt;\n&lt;script&gt;\n    \n    \n            var map_0f9a9146eb223acdd5d01f034be7ec02 = L.map(\n                &quot;map_0f9a9146eb223acdd5d01f034be7ec02&quot;,\n                {\n                    center: [29.559684888503615, -95.0830971930759],\n                    crs: L.CRS.EPSG3857,\n                    zoom: 5,\n                    zoomControl: true,\n                    preferCanvas: false,\n                }\n            );\n\n            \n\n        \n    \n            var tile_layer_eb26108003855441264ada01dce5ab08 = L.tileLayer(\n                &quot;https://tile.openstreetmap.org/{z}/{x}/{y}.png&quot;,\n                {&quot;attribution&quot;: &quot;\\u0026copy; \\u003ca href=\\&quot;https://www.openstreetmap.org/copyright\\&quot;\\u003eOpenStreetMap\\u003c/a\\u003e contributors&quot;, &quot;detectRetina&quot;: false, &quot;maxNativeZoom&quot;: 19, &quot;maxZoom&quot;: 19, &quot;minZoom&quot;: 0, &quot;noWrap&quot;: false, &quot;opacity&quot;: 1, &quot;subdomains&quot;: &quot;abc&quot;, &quot;tms&quot;: false}\n            );\n        \n    \n            tile_layer_eb26108003855441264ada01dce5ab08.addTo(map_0f9a9146eb223acdd5d01f034be7ec02);\n        \n    \n            var circle_9a0b226201747a51447b3f55700ff2c6 = L.circle(\n                [28.56230197, -80.57735648],\n                {&quot;bubblingMouseEvents&quot;: true, &quot;color&quot;: &quot;#d35400&quot;, &quot;dashArray&quot;: null, &quot;dashOffset&quot;: null, &quot;fill&quot;: true, &quot;fillColor&quot;: &quot;#d35400&quot;, &quot;fillOpacity&quot;: 0.2, &quot;fillRule&quot;: &quot;evenodd&quot;, &quot;lineCap&quot;: &quot;round&quot;, &quot;lineJoin&quot;: &quot;round&quot;, &quot;opacity&quot;: 1.0, &quot;radius&quot;: 1000, &quot;stroke&quot;: true, &quot;weight&quot;: 3}\n            ).addTo(map_0f9a9146eb223acdd5d01f034be7ec02);\n        \n    \n        var popup_79ecae1645113526d3030eb19761c472 = L.popup({&quot;maxWidth&quot;: &quot;100%&quot;});\n\n        \n            \n                var html_4acea040f62b8a33de688e75b707540a = $(`&lt;div id=&quot;html_4acea040f62b8a33de688e75b707540a&quot; style=&quot;width: 100.0%; height: 100.0%;&quot;&gt;CCAFS LC-40&lt;/div&gt;`)[0];\n                popup_79ecae1645113526d3030eb19761c472.setContent(html_4acea040f62b8a33de688e75b707540a);\n            \n        \n\n        circle_9a0b226201747a51447b3f55700ff2c6.bindPopup(popup_79ecae1645113526d3030eb19761c472)\n        ;\n\n        \n    \n    \n            var marker_7b5dd696e47600756c8afa2b9580ceef = L.marker(\n                [28.56230197, -80.57735648],\n                {}\n            ).addTo(map_0f9a9146eb223acdd5d01f034be7ec02);\n        \n    \n            var div_icon_4dd30cd259a54b76769003e0a5fd20ad = L.divIcon({&quot;className&quot;: &quot;empty&quot;, &quot;html&quot;: &quot;\\u003cdiv style=\\&quot;font-size: 12; color:#d35400;\\&quot;\\u003e\\u003cb\\u003eCCAFS LC-40\\u003c/b\\u003e\\u003c/div\\u003e&quot;, &quot;iconAnchor&quot;: [0, 0], &quot;iconSize&quot;: [20, 20]});\n            marker_7b5dd696e47600756c8afa2b9580ceef.setIcon(div_icon_4dd30cd259a54b76769003e0a5fd20ad);\n        \n    \n            var circle_e1b45f5a48e5b5dc7e654460b078fc9c = L.circle(\n                [28.56319718, -80.57682003],\n                {&quot;bubblingMouseEvents&quot;: true, &quot;color&quot;: &quot;#d35400&quot;, &quot;dashArray&quot;: null, &quot;dashOffset&quot;: null, &quot;fill&quot;: true, &quot;fillColor&quot;: &quot;#d35400&quot;, &quot;fillOpacity&quot;: 0.2, &quot;fillRule&quot;: &quot;evenodd&quot;, &quot;lineCap&quot;: &quot;round&quot;, &quot;lineJoin&quot;: &quot;round&quot;, &quot;opacity&quot;: 1.0, &quot;radius&quot;: 1000, &quot;stroke&quot;: true, &quot;weight&quot;: 3}\n            ).addTo(map_0f9a9146eb223acdd5d01f034be7ec02);\n        \n    \n        var popup_7685e48f9677837a4a8362fa3e0f8f1f = L.popup({&quot;maxWidth&quot;: &quot;100%&quot;});\n\n        \n            \n                var html_3825189b09cac2380d20c339f8d874e5 = $(`&lt;div id=&quot;html_3825189b09cac2380d20c339f8d874e5&quot; style=&quot;width: 100.0%; height: 100.0%;&quot;&gt;CCAFS SLC-40&lt;/div&gt;`)[0];\n                popup_7685e48f9677837a4a8362fa3e0f8f1f.setContent(html_3825189b09cac2380d20c339f8d874e5);\n            \n        \n\n        circle_e1b45f5a48e5b5dc7e654460b078fc9c.bindPopup(popup_7685e48f9677837a4a8362fa3e0f8f1f)\n        ;\n\n        \n    \n    \n            var marker_7dc1309e368afaacbbba7fd4c4607798 = L.marker(\n                [28.56319718, -80.57682003],\n                {}\n            ).addTo(map_0f9a9146eb223acdd5d01f034be7ec02);\n        \n    \n            var div_icon_7baf2a6f97be1f83a587bd1dd361b747 = L.divIcon({&quot;className&quot;: &quot;empty&quot;, &quot;html&quot;: &quot;\\u003cdiv style=\\&quot;font-size: 12; color:#d35400;\\&quot;\\u003e\\u003cb\\u003eCCAFS SLC-40\\u003c/b\\u003e\\u003c/div\\u003e&quot;, &quot;iconAnchor&quot;: [0, 0], &quot;iconSize&quot;: [20, 20]});\n            marker_7dc1309e368afaacbbba7fd4c4607798.setIcon(div_icon_7baf2a6f97be1f83a587bd1dd361b747);\n        \n    \n            var circle_efb15f4c15ae4c9f2400e437a843ddd0 = L.circle(\n                [28.57325457, -80.64689529],\n                {&quot;bubblingMouseEvents&quot;: true, &quot;color&quot;: &quot;#d35400&quot;, &quot;dashArray&quot;: null, &quot;dashOffset&quot;: null, &quot;fill&quot;: true, &quot;fillColor&quot;: &quot;#d35400&quot;, &quot;fillOpacity&quot;: 0.2, &quot;fillRule&quot;: &quot;evenodd&quot;, &quot;lineCap&quot;: &quot;round&quot;, &quot;lineJoin&quot;: &quot;round&quot;, &quot;opacity&quot;: 1.0, &quot;radius&quot;: 1000, &quot;stroke&quot;: true, &quot;weight&quot;: 3}\n            ).addTo(map_0f9a9146eb223acdd5d01f034be7ec02);\n        \n    \n        var popup_68fda9fc7ff904b6ebaf3c4143c12b94 = L.popup({&quot;maxWidth&quot;: &quot;100%&quot;});\n\n        \n            \n                var html_421d1297cd9a73c9f5140a08cd4afd5c = $(`&lt;div id=&quot;html_421d1297cd9a73c9f5140a08cd4afd5c&quot; style=&quot;width: 100.0%; height: 100.0%;&quot;&gt;KSC LC-39A&lt;/div&gt;`)[0];\n                popup_68fda9fc7ff904b6ebaf3c4143c12b94.setContent(html_421d1297cd9a73c9f5140a08cd4afd5c);\n            \n        \n\n        circle_efb15f4c15ae4c9f2400e437a843ddd0.bindPopup(popup_68fda9fc7ff904b6ebaf3c4143c12b94)\n        ;\n\n        \n    \n    \n            var marker_c2ec8d8e31444a8f367011ead140a54e = L.marker(\n                [28.57325457, -80.64689529],\n                {}\n            ).addTo(map_0f9a9146eb223acdd5d01f034be7ec02);\n        \n    \n            var div_icon_8dbbfc3db730b39908b6f96a14effca8 = L.divIcon({&quot;className&quot;: &quot;empty&quot;, &quot;html&quot;: &quot;\\u003cdiv style=\\&quot;font-size: 12; color:#d35400;\\&quot;\\u003e\\u003cb\\u003eKSC LC-39A\\u003c/b\\u003e\\u003c/div\\u003e&quot;, &quot;iconAnchor&quot;: [0, 0], &quot;iconSize&quot;: [20, 20]});\n            marker_c2ec8d8e31444a8f367011ead140a54e.setIcon(div_icon_8dbbfc3db730b39908b6f96a14effca8);\n        \n    \n            var circle_ed7ccf0480f16c5fcf493339328421b5 = L.circle(\n                [34.63283416, -120.6107455],\n                {&quot;bubblingMouseEvents&quot;: true, &quot;color&quot;: &quot;#d35400&quot;, &quot;dashArray&quot;: null, &quot;dashOffset&quot;: null, &quot;fill&quot;: true, &quot;fillColor&quot;: &quot;#d35400&quot;, &quot;fillOpacity&quot;: 0.2, &quot;fillRule&quot;: &quot;evenodd&quot;, &quot;lineCap&quot;: &quot;round&quot;, &quot;lineJoin&quot;: &quot;round&quot;, &quot;opacity&quot;: 1.0, &quot;radius&quot;: 1000, &quot;stroke&quot;: true, &quot;weight&quot;: 3}\n            ).addTo(map_0f9a9146eb223acdd5d01f034be7ec02);\n        \n    \n        var popup_69f4ffbf796897625b101fed0a3691c9 = L.popup({&quot;maxWidth&quot;: &quot;100%&quot;});\n\n        \n            \n                var html_fc04d323a270ca55b65d1c6d31b1c63a = $(`&lt;div id=&quot;html_fc04d323a270ca55b65d1c6d31b1c63a&quot; style=&quot;width: 100.0%; height: 100.0%;&quot;&gt;VAFB SLC-4E&lt;/div&gt;`)[0];\n                popup_69f4ffbf796897625b101fed0a3691c9.setContent(html_fc04d323a270ca55b65d1c6d31b1c63a);\n            \n        \n\n        circle_ed7ccf0480f16c5fcf493339328421b5.bindPopup(popup_69f4ffbf796897625b101fed0a3691c9)\n        ;\n\n        \n    \n    \n            var marker_50304359d43bff829ae82b8cae0e239b = L.marker(\n                [34.63283416, -120.6107455],\n                {}\n            ).addTo(map_0f9a9146eb223acdd5d01f034be7ec02);\n        \n    \n            var div_icon_27296899a2cd601c8a49002ae4df90e6 = L.divIcon({&quot;className&quot;: &quot;empty&quot;, &quot;html&quot;: &quot;\\u003cdiv style=\\&quot;font-size: 12; color:#d35400;\\&quot;\\u003e\\u003cb\\u003eVAFB SLC-4E\\u003c/b\\u003e\\u003c/div\\u003e&quot;, &quot;iconAnchor&quot;: [0, 0], &quot;iconSize&quot;: [20, 20]});\n            marker_50304359d43bff829ae82b8cae0e239b.setIcon(div_icon_27296899a2cd601c8a49002ae4df90e6);\n        \n    \n            tile_layer_eb26108003855441264ada01dce5ab08.addTo(map_0f9a9146eb223acdd5d01f034be7ec02);\n        \n    \n            tile_layer_eb26108003855441264ada01dce5ab08.addTo(map_0f9a9146eb223acdd5d01f034be7ec02);\n        \n    \n            var mouse_position_c38a78641b3ddde5ba264d2e35491241 = new L.Control.MousePosition(\n                {&quot;emptyString&quot;: &quot;NaN&quot;, &quot;lngFirst&quot;: false, &quot;numDigits&quot;: 20, &quot;position&quot;: &quot;topright&quot;, &quot;prefix&quot;: &quot;Lat:&quot;, &quot;separator&quot;: &quot; Long: &quot;}\n            );\n            mouse_position_c38a78641b3ddde5ba264d2e35491241.options[&quot;latFormatter&quot;] =\n                function(num) {return L.Util.formatNum(num, 5);};;\n            mouse_position_c38a78641b3ddde5ba264d2e35491241.options[&quot;lngFormatter&quot;] =\n                function(num) {return L.Util.formatNum(num, 5);};;\n            map_0f9a9146eb223acdd5d01f034be7ec02.addControl(mouse_position_c38a78641b3ddde5ba264d2e35491241);\n        \n    \n            tile_layer_eb26108003855441264ada01dce5ab08.addTo(map_0f9a9146eb223acdd5d01f034be7ec02);\n        \n    \n            var marker_c263da5ea91d1cda02d112a13282db99 = L.marker(\n                [28.563197, -80.566065],\n                {}\n            ).addTo(map_0f9a9146eb223acdd5d01f034be7ec02);\n        \n    \n            var div_icon_e4b62d18e9b23353a1cb88efc2598ec0 = L.divIcon({&quot;className&quot;: &quot;empty&quot;, &quot;html&quot;: &quot;\\u003cdiv style=\\&quot;font-size: 12; color:#d35400;\\&quot;\\u003e\\u003cb\\u003eDistance: 1.11 km\\u003c/b\\u003e\\u003c/div\\u003e&quot;, &quot;iconAnchor&quot;: [0, 0], &quot;iconSize&quot;: [2, 2]});\n            marker_c263da5ea91d1cda02d112a13282db99.setIcon(div_icon_e4b62d18e9b23353a1cb88efc2598ec0);\n        \n    \n            tile_layer_eb26108003855441264ada01dce5ab08.addTo(map_0f9a9146eb223acdd5d01f034be7ec02);\n        \n    \n            var poly_line_180ba2ee652903beb6cdc1e3c118be8e = L.polyline(\n                [[28.562302, -80.577356], [28.563197, -80.566065]],\n                {&quot;bubblingMouseEvents&quot;: true, &quot;color&quot;: &quot;blue&quot;, &quot;dashArray&quot;: null, &quot;dashOffset&quot;: null, &quot;fill&quot;: false, &quot;fillColor&quot;: &quot;blue&quot;, &quot;fillOpacity&quot;: 0.2, &quot;fillRule&quot;: &quot;evenodd&quot;, &quot;lineCap&quot;: &quot;round&quot;, &quot;lineJoin&quot;: &quot;round&quot;, &quot;noClip&quot;: false, &quot;opacity&quot;: 1.0, &quot;smoothFactor&quot;: 1.0, &quot;stroke&quot;: true, &quot;weight&quot;: 3}\n            ).addTo(map_0f9a9146eb223acdd5d01f034be7ec02);\n        \n&lt;/script&gt;\n&lt;/html&gt;\" style=\"position:absolute;width:100%;height:100%;left:0;top:0;border:none !important;\" allowfullscreen webkitallowfullscreen mozallowfullscreen></iframe></div></div>"
          },
          "metadata": {}
        }
      ],
      "execution_count": 83
    },
    {
      "cell_type": "markdown",
      "source": "Your updated map with distance line should look like the following screenshot:\n",
      "metadata": {}
    },
    {
      "cell_type": "markdown",
      "source": "<center>\n    <img src=\"https://cf-courses-data.s3.us.cloud-object-storage.appdomain.cloud/IBM-DS0321EN-SkillsNetwork/labs/module_3/images/launch_site_marker_distance.png\">\n</center>\n",
      "metadata": {}
    },
    {
      "cell_type": "markdown",
      "source": "*TODO:* Similarly, you can draw a line betwee a launch site to its closest city, railway, highway, etc. You need to use `MousePosition` to find the their coordinates on the map first\n",
      "metadata": {}
    },
    {
      "cell_type": "markdown",
      "source": "A railway map symbol may look like this:\n",
      "metadata": {}
    },
    {
      "cell_type": "markdown",
      "source": "<center>\n    <img src=\"https://cf-courses-data.s3.us.cloud-object-storage.appdomain.cloud/IBM-DS0321EN-SkillsNetwork/labs/module_3/images/railway.png\">\n</center>\n",
      "metadata": {}
    },
    {
      "cell_type": "markdown",
      "source": "A highway map symbol may look like this:\n",
      "metadata": {}
    },
    {
      "cell_type": "markdown",
      "source": "<center>\n    <img src=\"https://cf-courses-data.s3.us.cloud-object-storage.appdomain.cloud/IBM-DS0321EN-SkillsNetwork/labs/module_3/images/highway.png\">\n</center>\n",
      "metadata": {}
    },
    {
      "cell_type": "markdown",
      "source": "A city map symbol may look like this:\n",
      "metadata": {}
    },
    {
      "cell_type": "markdown",
      "source": "<center>\n    <img src=\"https://cf-courses-data.s3.us.cloud-object-storage.appdomain.cloud/IBM-DS0321EN-SkillsNetwork/labs/module_3/images/city.png\">\n</center>\n",
      "metadata": {}
    },
    {
      "cell_type": "code",
      "source": "# Create a marker with distance to a closest city, railway, highway, etc.\n# Draw a line between the marker to the launch site\n",
      "metadata": {
        "trusted": true
      },
      "outputs": [],
      "execution_count": 84
    },
    {
      "cell_type": "code",
      "source": "# Coordinates of launch site and city\nlaunch_site_lat = 28.562302\nlaunch_site_lon = -80.577356\ncoastline_lat = 28.40446\ncoastline_lon = -80.596065\n\n# Calculate the distance to the coastline\ndistance_coastline = calculate_distance(launch_site_lat, launch_site_lon, coastline_lat, coastline_lon)\nprint(f\"Distance to coastline: {distance_coastline:.2f} km\")\n\n# Create the folium map\n#site_map = folium.Map(location=[launch_site_lat, launch_site_lon], zoom_start=15)\n\n# Add a marker for the coastline point with distance displayed\ndistance_marker = folium.Marker(\n    [coastline_lat, coastline_lon],\n    icon=folium.DivIcon(\n        icon_size=(20, 20),\n        icon_anchor=(0, 0),\n        html='<div style=\"font-size: 12; color:#d35400;\"><b>Distance: {:.2f} km</b></div>'.format(distance_coastline)\n    )\n)\nsite_map.add_child(distance_marker)\n\n# Draw a PolyLine between the launch site and the coastline\nfolium.PolyLine(\n    locations=[[launch_site_lat, launch_site_lon], [coastline_lat, coastline_lon]],\n    weight=3,\n    color='blue'\n).add_to(site_map)\n\nsite_map",
      "metadata": {
        "trusted": true
      },
      "outputs": [
        {
          "name": "stdout",
          "text": "Distance to coastline: 17.65 km\n",
          "output_type": "stream"
        },
        {
          "execution_count": 85,
          "output_type": "execute_result",
          "data": {
            "text/plain": "<folium.folium.Map at 0x60225d0>",
            "text/html": "<div style=\"width:100%;\"><div style=\"position:relative;width:100%;height:0;padding-bottom:60%;\"><span style=\"color:#565656\">Make this Notebook Trusted to load map: File -> Trust Notebook</span><iframe srcdoc=\"&lt;!DOCTYPE html&gt;\n&lt;html&gt;\n&lt;head&gt;\n    \n    &lt;meta http-equiv=&quot;content-type&quot; content=&quot;text/html; charset=UTF-8&quot; /&gt;\n    \n        &lt;script&gt;\n            L_NO_TOUCH = false;\n            L_DISABLE_3D = false;\n        &lt;/script&gt;\n    \n    &lt;style&gt;html, body {width: 100%;height: 100%;margin: 0;padding: 0;}&lt;/style&gt;\n    &lt;style&gt;#map {position:absolute;top:0;bottom:0;right:0;left:0;}&lt;/style&gt;\n    &lt;script src=&quot;https://cdn.jsdelivr.net/npm/leaflet@1.9.3/dist/leaflet.js&quot;&gt;&lt;/script&gt;\n    &lt;script src=&quot;https://code.jquery.com/jquery-3.7.1.min.js&quot;&gt;&lt;/script&gt;\n    &lt;script src=&quot;https://cdn.jsdelivr.net/npm/bootstrap@5.2.2/dist/js/bootstrap.bundle.min.js&quot;&gt;&lt;/script&gt;\n    &lt;script src=&quot;https://cdnjs.cloudflare.com/ajax/libs/Leaflet.awesome-markers/2.0.2/leaflet.awesome-markers.js&quot;&gt;&lt;/script&gt;\n    &lt;link rel=&quot;stylesheet&quot; href=&quot;https://cdn.jsdelivr.net/npm/leaflet@1.9.3/dist/leaflet.css&quot;/&gt;\n    &lt;link rel=&quot;stylesheet&quot; href=&quot;https://cdn.jsdelivr.net/npm/bootstrap@5.2.2/dist/css/bootstrap.min.css&quot;/&gt;\n    &lt;link rel=&quot;stylesheet&quot; href=&quot;https://netdna.bootstrapcdn.com/bootstrap/3.0.0/css/bootstrap-glyphicons.css&quot;/&gt;\n    &lt;link rel=&quot;stylesheet&quot; href=&quot;https://cdn.jsdelivr.net/npm/@fortawesome/fontawesome-free@6.2.0/css/all.min.css&quot;/&gt;\n    &lt;link rel=&quot;stylesheet&quot; href=&quot;https://cdnjs.cloudflare.com/ajax/libs/Leaflet.awesome-markers/2.0.2/leaflet.awesome-markers.css&quot;/&gt;\n    &lt;link rel=&quot;stylesheet&quot; href=&quot;https://cdn.jsdelivr.net/gh/python-visualization/folium/folium/templates/leaflet.awesome.rotate.min.css&quot;/&gt;\n    \n            &lt;meta name=&quot;viewport&quot; content=&quot;width=device-width,\n                initial-scale=1.0, maximum-scale=1.0, user-scalable=no&quot; /&gt;\n            &lt;style&gt;\n                #map_0f9a9146eb223acdd5d01f034be7ec02 {\n                    position: relative;\n                    width: 100.0%;\n                    height: 100.0%;\n                    left: 0.0%;\n                    top: 0.0%;\n                }\n                .leaflet-container { font-size: 1rem; }\n            &lt;/style&gt;\n        \n    &lt;script src=&quot;https://cdn.jsdelivr.net/gh/ardhi/Leaflet.MousePosition/src/L.Control.MousePosition.min.js&quot;&gt;&lt;/script&gt;\n    &lt;link rel=&quot;stylesheet&quot; href=&quot;https://cdn.jsdelivr.net/gh/ardhi/Leaflet.MousePosition/src/L.Control.MousePosition.min.css&quot;/&gt;\n&lt;/head&gt;\n&lt;body&gt;\n    \n    \n            &lt;div class=&quot;folium-map&quot; id=&quot;map_0f9a9146eb223acdd5d01f034be7ec02&quot; &gt;&lt;/div&gt;\n        \n&lt;/body&gt;\n&lt;script&gt;\n    \n    \n            var map_0f9a9146eb223acdd5d01f034be7ec02 = L.map(\n                &quot;map_0f9a9146eb223acdd5d01f034be7ec02&quot;,\n                {\n                    center: [29.559684888503615, -95.0830971930759],\n                    crs: L.CRS.EPSG3857,\n                    zoom: 5,\n                    zoomControl: true,\n                    preferCanvas: false,\n                }\n            );\n\n            \n\n        \n    \n            var tile_layer_eb26108003855441264ada01dce5ab08 = L.tileLayer(\n                &quot;https://tile.openstreetmap.org/{z}/{x}/{y}.png&quot;,\n                {&quot;attribution&quot;: &quot;\\u0026copy; \\u003ca href=\\&quot;https://www.openstreetmap.org/copyright\\&quot;\\u003eOpenStreetMap\\u003c/a\\u003e contributors&quot;, &quot;detectRetina&quot;: false, &quot;maxNativeZoom&quot;: 19, &quot;maxZoom&quot;: 19, &quot;minZoom&quot;: 0, &quot;noWrap&quot;: false, &quot;opacity&quot;: 1, &quot;subdomains&quot;: &quot;abc&quot;, &quot;tms&quot;: false}\n            );\n        \n    \n            tile_layer_eb26108003855441264ada01dce5ab08.addTo(map_0f9a9146eb223acdd5d01f034be7ec02);\n        \n    \n            var circle_9a0b226201747a51447b3f55700ff2c6 = L.circle(\n                [28.56230197, -80.57735648],\n                {&quot;bubblingMouseEvents&quot;: true, &quot;color&quot;: &quot;#d35400&quot;, &quot;dashArray&quot;: null, &quot;dashOffset&quot;: null, &quot;fill&quot;: true, &quot;fillColor&quot;: &quot;#d35400&quot;, &quot;fillOpacity&quot;: 0.2, &quot;fillRule&quot;: &quot;evenodd&quot;, &quot;lineCap&quot;: &quot;round&quot;, &quot;lineJoin&quot;: &quot;round&quot;, &quot;opacity&quot;: 1.0, &quot;radius&quot;: 1000, &quot;stroke&quot;: true, &quot;weight&quot;: 3}\n            ).addTo(map_0f9a9146eb223acdd5d01f034be7ec02);\n        \n    \n        var popup_79ecae1645113526d3030eb19761c472 = L.popup({&quot;maxWidth&quot;: &quot;100%&quot;});\n\n        \n            \n                var html_4acea040f62b8a33de688e75b707540a = $(`&lt;div id=&quot;html_4acea040f62b8a33de688e75b707540a&quot; style=&quot;width: 100.0%; height: 100.0%;&quot;&gt;CCAFS LC-40&lt;/div&gt;`)[0];\n                popup_79ecae1645113526d3030eb19761c472.setContent(html_4acea040f62b8a33de688e75b707540a);\n            \n        \n\n        circle_9a0b226201747a51447b3f55700ff2c6.bindPopup(popup_79ecae1645113526d3030eb19761c472)\n        ;\n\n        \n    \n    \n            var marker_7b5dd696e47600756c8afa2b9580ceef = L.marker(\n                [28.56230197, -80.57735648],\n                {}\n            ).addTo(map_0f9a9146eb223acdd5d01f034be7ec02);\n        \n    \n            var div_icon_4dd30cd259a54b76769003e0a5fd20ad = L.divIcon({&quot;className&quot;: &quot;empty&quot;, &quot;html&quot;: &quot;\\u003cdiv style=\\&quot;font-size: 12; color:#d35400;\\&quot;\\u003e\\u003cb\\u003eCCAFS LC-40\\u003c/b\\u003e\\u003c/div\\u003e&quot;, &quot;iconAnchor&quot;: [0, 0], &quot;iconSize&quot;: [20, 20]});\n            marker_7b5dd696e47600756c8afa2b9580ceef.setIcon(div_icon_4dd30cd259a54b76769003e0a5fd20ad);\n        \n    \n            var circle_e1b45f5a48e5b5dc7e654460b078fc9c = L.circle(\n                [28.56319718, -80.57682003],\n                {&quot;bubblingMouseEvents&quot;: true, &quot;color&quot;: &quot;#d35400&quot;, &quot;dashArray&quot;: null, &quot;dashOffset&quot;: null, &quot;fill&quot;: true, &quot;fillColor&quot;: &quot;#d35400&quot;, &quot;fillOpacity&quot;: 0.2, &quot;fillRule&quot;: &quot;evenodd&quot;, &quot;lineCap&quot;: &quot;round&quot;, &quot;lineJoin&quot;: &quot;round&quot;, &quot;opacity&quot;: 1.0, &quot;radius&quot;: 1000, &quot;stroke&quot;: true, &quot;weight&quot;: 3}\n            ).addTo(map_0f9a9146eb223acdd5d01f034be7ec02);\n        \n    \n        var popup_7685e48f9677837a4a8362fa3e0f8f1f = L.popup({&quot;maxWidth&quot;: &quot;100%&quot;});\n\n        \n            \n                var html_3825189b09cac2380d20c339f8d874e5 = $(`&lt;div id=&quot;html_3825189b09cac2380d20c339f8d874e5&quot; style=&quot;width: 100.0%; height: 100.0%;&quot;&gt;CCAFS SLC-40&lt;/div&gt;`)[0];\n                popup_7685e48f9677837a4a8362fa3e0f8f1f.setContent(html_3825189b09cac2380d20c339f8d874e5);\n            \n        \n\n        circle_e1b45f5a48e5b5dc7e654460b078fc9c.bindPopup(popup_7685e48f9677837a4a8362fa3e0f8f1f)\n        ;\n\n        \n    \n    \n            var marker_7dc1309e368afaacbbba7fd4c4607798 = L.marker(\n                [28.56319718, -80.57682003],\n                {}\n            ).addTo(map_0f9a9146eb223acdd5d01f034be7ec02);\n        \n    \n            var div_icon_7baf2a6f97be1f83a587bd1dd361b747 = L.divIcon({&quot;className&quot;: &quot;empty&quot;, &quot;html&quot;: &quot;\\u003cdiv style=\\&quot;font-size: 12; color:#d35400;\\&quot;\\u003e\\u003cb\\u003eCCAFS SLC-40\\u003c/b\\u003e\\u003c/div\\u003e&quot;, &quot;iconAnchor&quot;: [0, 0], &quot;iconSize&quot;: [20, 20]});\n            marker_7dc1309e368afaacbbba7fd4c4607798.setIcon(div_icon_7baf2a6f97be1f83a587bd1dd361b747);\n        \n    \n            var circle_efb15f4c15ae4c9f2400e437a843ddd0 = L.circle(\n                [28.57325457, -80.64689529],\n                {&quot;bubblingMouseEvents&quot;: true, &quot;color&quot;: &quot;#d35400&quot;, &quot;dashArray&quot;: null, &quot;dashOffset&quot;: null, &quot;fill&quot;: true, &quot;fillColor&quot;: &quot;#d35400&quot;, &quot;fillOpacity&quot;: 0.2, &quot;fillRule&quot;: &quot;evenodd&quot;, &quot;lineCap&quot;: &quot;round&quot;, &quot;lineJoin&quot;: &quot;round&quot;, &quot;opacity&quot;: 1.0, &quot;radius&quot;: 1000, &quot;stroke&quot;: true, &quot;weight&quot;: 3}\n            ).addTo(map_0f9a9146eb223acdd5d01f034be7ec02);\n        \n    \n        var popup_68fda9fc7ff904b6ebaf3c4143c12b94 = L.popup({&quot;maxWidth&quot;: &quot;100%&quot;});\n\n        \n            \n                var html_421d1297cd9a73c9f5140a08cd4afd5c = $(`&lt;div id=&quot;html_421d1297cd9a73c9f5140a08cd4afd5c&quot; style=&quot;width: 100.0%; height: 100.0%;&quot;&gt;KSC LC-39A&lt;/div&gt;`)[0];\n                popup_68fda9fc7ff904b6ebaf3c4143c12b94.setContent(html_421d1297cd9a73c9f5140a08cd4afd5c);\n            \n        \n\n        circle_efb15f4c15ae4c9f2400e437a843ddd0.bindPopup(popup_68fda9fc7ff904b6ebaf3c4143c12b94)\n        ;\n\n        \n    \n    \n            var marker_c2ec8d8e31444a8f367011ead140a54e = L.marker(\n                [28.57325457, -80.64689529],\n                {}\n            ).addTo(map_0f9a9146eb223acdd5d01f034be7ec02);\n        \n    \n            var div_icon_8dbbfc3db730b39908b6f96a14effca8 = L.divIcon({&quot;className&quot;: &quot;empty&quot;, &quot;html&quot;: &quot;\\u003cdiv style=\\&quot;font-size: 12; color:#d35400;\\&quot;\\u003e\\u003cb\\u003eKSC LC-39A\\u003c/b\\u003e\\u003c/div\\u003e&quot;, &quot;iconAnchor&quot;: [0, 0], &quot;iconSize&quot;: [20, 20]});\n            marker_c2ec8d8e31444a8f367011ead140a54e.setIcon(div_icon_8dbbfc3db730b39908b6f96a14effca8);\n        \n    \n            var circle_ed7ccf0480f16c5fcf493339328421b5 = L.circle(\n                [34.63283416, -120.6107455],\n                {&quot;bubblingMouseEvents&quot;: true, &quot;color&quot;: &quot;#d35400&quot;, &quot;dashArray&quot;: null, &quot;dashOffset&quot;: null, &quot;fill&quot;: true, &quot;fillColor&quot;: &quot;#d35400&quot;, &quot;fillOpacity&quot;: 0.2, &quot;fillRule&quot;: &quot;evenodd&quot;, &quot;lineCap&quot;: &quot;round&quot;, &quot;lineJoin&quot;: &quot;round&quot;, &quot;opacity&quot;: 1.0, &quot;radius&quot;: 1000, &quot;stroke&quot;: true, &quot;weight&quot;: 3}\n            ).addTo(map_0f9a9146eb223acdd5d01f034be7ec02);\n        \n    \n        var popup_69f4ffbf796897625b101fed0a3691c9 = L.popup({&quot;maxWidth&quot;: &quot;100%&quot;});\n\n        \n            \n                var html_fc04d323a270ca55b65d1c6d31b1c63a = $(`&lt;div id=&quot;html_fc04d323a270ca55b65d1c6d31b1c63a&quot; style=&quot;width: 100.0%; height: 100.0%;&quot;&gt;VAFB SLC-4E&lt;/div&gt;`)[0];\n                popup_69f4ffbf796897625b101fed0a3691c9.setContent(html_fc04d323a270ca55b65d1c6d31b1c63a);\n            \n        \n\n        circle_ed7ccf0480f16c5fcf493339328421b5.bindPopup(popup_69f4ffbf796897625b101fed0a3691c9)\n        ;\n\n        \n    \n    \n            var marker_50304359d43bff829ae82b8cae0e239b = L.marker(\n                [34.63283416, -120.6107455],\n                {}\n            ).addTo(map_0f9a9146eb223acdd5d01f034be7ec02);\n        \n    \n            var div_icon_27296899a2cd601c8a49002ae4df90e6 = L.divIcon({&quot;className&quot;: &quot;empty&quot;, &quot;html&quot;: &quot;\\u003cdiv style=\\&quot;font-size: 12; color:#d35400;\\&quot;\\u003e\\u003cb\\u003eVAFB SLC-4E\\u003c/b\\u003e\\u003c/div\\u003e&quot;, &quot;iconAnchor&quot;: [0, 0], &quot;iconSize&quot;: [20, 20]});\n            marker_50304359d43bff829ae82b8cae0e239b.setIcon(div_icon_27296899a2cd601c8a49002ae4df90e6);\n        \n    \n            tile_layer_eb26108003855441264ada01dce5ab08.addTo(map_0f9a9146eb223acdd5d01f034be7ec02);\n        \n    \n            tile_layer_eb26108003855441264ada01dce5ab08.addTo(map_0f9a9146eb223acdd5d01f034be7ec02);\n        \n    \n            var mouse_position_c38a78641b3ddde5ba264d2e35491241 = new L.Control.MousePosition(\n                {&quot;emptyString&quot;: &quot;NaN&quot;, &quot;lngFirst&quot;: false, &quot;numDigits&quot;: 20, &quot;position&quot;: &quot;topright&quot;, &quot;prefix&quot;: &quot;Lat:&quot;, &quot;separator&quot;: &quot; Long: &quot;}\n            );\n            mouse_position_c38a78641b3ddde5ba264d2e35491241.options[&quot;latFormatter&quot;] =\n                function(num) {return L.Util.formatNum(num, 5);};;\n            mouse_position_c38a78641b3ddde5ba264d2e35491241.options[&quot;lngFormatter&quot;] =\n                function(num) {return L.Util.formatNum(num, 5);};;\n            map_0f9a9146eb223acdd5d01f034be7ec02.addControl(mouse_position_c38a78641b3ddde5ba264d2e35491241);\n        \n    \n            tile_layer_eb26108003855441264ada01dce5ab08.addTo(map_0f9a9146eb223acdd5d01f034be7ec02);\n        \n    \n            var marker_c263da5ea91d1cda02d112a13282db99 = L.marker(\n                [28.563197, -80.566065],\n                {}\n            ).addTo(map_0f9a9146eb223acdd5d01f034be7ec02);\n        \n    \n            var div_icon_e4b62d18e9b23353a1cb88efc2598ec0 = L.divIcon({&quot;className&quot;: &quot;empty&quot;, &quot;html&quot;: &quot;\\u003cdiv style=\\&quot;font-size: 12; color:#d35400;\\&quot;\\u003e\\u003cb\\u003eDistance: 1.11 km\\u003c/b\\u003e\\u003c/div\\u003e&quot;, &quot;iconAnchor&quot;: [0, 0], &quot;iconSize&quot;: [2, 2]});\n            marker_c263da5ea91d1cda02d112a13282db99.setIcon(div_icon_e4b62d18e9b23353a1cb88efc2598ec0);\n        \n    \n            tile_layer_eb26108003855441264ada01dce5ab08.addTo(map_0f9a9146eb223acdd5d01f034be7ec02);\n        \n    \n            var poly_line_180ba2ee652903beb6cdc1e3c118be8e = L.polyline(\n                [[28.562302, -80.577356], [28.563197, -80.566065]],\n                {&quot;bubblingMouseEvents&quot;: true, &quot;color&quot;: &quot;blue&quot;, &quot;dashArray&quot;: null, &quot;dashOffset&quot;: null, &quot;fill&quot;: false, &quot;fillColor&quot;: &quot;blue&quot;, &quot;fillOpacity&quot;: 0.2, &quot;fillRule&quot;: &quot;evenodd&quot;, &quot;lineCap&quot;: &quot;round&quot;, &quot;lineJoin&quot;: &quot;round&quot;, &quot;noClip&quot;: false, &quot;opacity&quot;: 1.0, &quot;smoothFactor&quot;: 1.0, &quot;stroke&quot;: true, &quot;weight&quot;: 3}\n            ).addTo(map_0f9a9146eb223acdd5d01f034be7ec02);\n        \n    \n            tile_layer_eb26108003855441264ada01dce5ab08.addTo(map_0f9a9146eb223acdd5d01f034be7ec02);\n        \n    \n            var marker_b999b2978f81faecfa17799a6b479fcb = L.marker(\n                [28.40446, -80.596065],\n                {}\n            ).addTo(map_0f9a9146eb223acdd5d01f034be7ec02);\n        \n    \n            var div_icon_6d170e45d48a3783754b4466285c6f55 = L.divIcon({&quot;className&quot;: &quot;empty&quot;, &quot;html&quot;: &quot;\\u003cdiv style=\\&quot;font-size: 12; color:#d35400;\\&quot;\\u003e\\u003cb\\u003eDistance: 17.65 km\\u003c/b\\u003e\\u003c/div\\u003e&quot;, &quot;iconAnchor&quot;: [0, 0], &quot;iconSize&quot;: [20, 20]});\n            marker_b999b2978f81faecfa17799a6b479fcb.setIcon(div_icon_6d170e45d48a3783754b4466285c6f55);\n        \n    \n            var poly_line_cf4604e20dd644fb1dbd7897b7ee9b12 = L.polyline(\n                [[28.562302, -80.577356], [28.40446, -80.596065]],\n                {&quot;bubblingMouseEvents&quot;: true, &quot;color&quot;: &quot;blue&quot;, &quot;dashArray&quot;: null, &quot;dashOffset&quot;: null, &quot;fill&quot;: false, &quot;fillColor&quot;: &quot;blue&quot;, &quot;fillOpacity&quot;: 0.2, &quot;fillRule&quot;: &quot;evenodd&quot;, &quot;lineCap&quot;: &quot;round&quot;, &quot;lineJoin&quot;: &quot;round&quot;, &quot;noClip&quot;: false, &quot;opacity&quot;: 1.0, &quot;smoothFactor&quot;: 1.0, &quot;stroke&quot;: true, &quot;weight&quot;: 3}\n            ).addTo(map_0f9a9146eb223acdd5d01f034be7ec02);\n        \n&lt;/script&gt;\n&lt;/html&gt;\" style=\"position:absolute;width:100%;height:100%;left:0;top:0;border:none !important;\" allowfullscreen webkitallowfullscreen mozallowfullscreen></iframe></div></div>"
          },
          "metadata": {}
        }
      ],
      "execution_count": 85
    },
    {
      "cell_type": "code",
      "source": "# Coordinates of launch site and city\nlaunch_site_lat = 28.562302\nlaunch_site_lon = -80.577356\ncoastline_lat = 28.56172\ncoastline_lon = -80.577356\n\n# Calculate the distance to the coastline\ndistance_coastline = calculate_distance(launch_site_lat, launch_site_lon, coastline_lat, coastline_lon)\nprint(f\"Distance to coastline: {distance_coastline:.2f} km\")\n\n# Create the folium map\nsite_map = folium.Map(location=[launch_site_lat, launch_site_lon], zoom_start=15)\n\n# Add a marker for the coastline point with distance displayed\ndistance_marker = folium.Marker(\n    [coastline_lat, coastline_lon],\n    icon=folium.DivIcon(\n        icon_size=(20, 20),\n        icon_anchor=(0, 0),\n        html='<div style=\"font-size: 12; color:#d35400;\"><b>Distance: {:.2f} km</b></div>'.format(distance_coastline)\n    )\n)\nsite_map.add_child(distance_marker)\n\n# Draw a PolyLine between the launch site and the coastline\nfolium.PolyLine(\n    locations=[[launch_site_lat, launch_site_lon], [coastline_lat, coastline_lon]],\n    weight=3,\n    color='blue'\n).add_to(site_map)\n\nsite_map",
      "metadata": {
        "trusted": true
      },
      "outputs": [
        {
          "name": "stdout",
          "text": "Distance to coastline: 0.06 km\n",
          "output_type": "stream"
        },
        {
          "execution_count": 90,
          "output_type": "execute_result",
          "data": {
            "text/plain": "<folium.folium.Map at 0x7269258>",
            "text/html": "<div style=\"width:100%;\"><div style=\"position:relative;width:100%;height:0;padding-bottom:60%;\"><span style=\"color:#565656\">Make this Notebook Trusted to load map: File -> Trust Notebook</span><iframe srcdoc=\"&lt;!DOCTYPE html&gt;\n&lt;html&gt;\n&lt;head&gt;\n    \n    &lt;meta http-equiv=&quot;content-type&quot; content=&quot;text/html; charset=UTF-8&quot; /&gt;\n    \n        &lt;script&gt;\n            L_NO_TOUCH = false;\n            L_DISABLE_3D = false;\n        &lt;/script&gt;\n    \n    &lt;style&gt;html, body {width: 100%;height: 100%;margin: 0;padding: 0;}&lt;/style&gt;\n    &lt;style&gt;#map {position:absolute;top:0;bottom:0;right:0;left:0;}&lt;/style&gt;\n    &lt;script src=&quot;https://cdn.jsdelivr.net/npm/leaflet@1.9.3/dist/leaflet.js&quot;&gt;&lt;/script&gt;\n    &lt;script src=&quot;https://code.jquery.com/jquery-3.7.1.min.js&quot;&gt;&lt;/script&gt;\n    &lt;script src=&quot;https://cdn.jsdelivr.net/npm/bootstrap@5.2.2/dist/js/bootstrap.bundle.min.js&quot;&gt;&lt;/script&gt;\n    &lt;script src=&quot;https://cdnjs.cloudflare.com/ajax/libs/Leaflet.awesome-markers/2.0.2/leaflet.awesome-markers.js&quot;&gt;&lt;/script&gt;\n    &lt;link rel=&quot;stylesheet&quot; href=&quot;https://cdn.jsdelivr.net/npm/leaflet@1.9.3/dist/leaflet.css&quot;/&gt;\n    &lt;link rel=&quot;stylesheet&quot; href=&quot;https://cdn.jsdelivr.net/npm/bootstrap@5.2.2/dist/css/bootstrap.min.css&quot;/&gt;\n    &lt;link rel=&quot;stylesheet&quot; href=&quot;https://netdna.bootstrapcdn.com/bootstrap/3.0.0/css/bootstrap-glyphicons.css&quot;/&gt;\n    &lt;link rel=&quot;stylesheet&quot; href=&quot;https://cdn.jsdelivr.net/npm/@fortawesome/fontawesome-free@6.2.0/css/all.min.css&quot;/&gt;\n    &lt;link rel=&quot;stylesheet&quot; href=&quot;https://cdnjs.cloudflare.com/ajax/libs/Leaflet.awesome-markers/2.0.2/leaflet.awesome-markers.css&quot;/&gt;\n    &lt;link rel=&quot;stylesheet&quot; href=&quot;https://cdn.jsdelivr.net/gh/python-visualization/folium/folium/templates/leaflet.awesome.rotate.min.css&quot;/&gt;\n    \n            &lt;meta name=&quot;viewport&quot; content=&quot;width=device-width,\n                initial-scale=1.0, maximum-scale=1.0, user-scalable=no&quot; /&gt;\n            &lt;style&gt;\n                #map_1ff1f79a3bfd33d590dab8749c5e613e {\n                    position: relative;\n                    width: 100.0%;\n                    height: 100.0%;\n                    left: 0.0%;\n                    top: 0.0%;\n                }\n                .leaflet-container { font-size: 1rem; }\n            &lt;/style&gt;\n        \n&lt;/head&gt;\n&lt;body&gt;\n    \n    \n            &lt;div class=&quot;folium-map&quot; id=&quot;map_1ff1f79a3bfd33d590dab8749c5e613e&quot; &gt;&lt;/div&gt;\n        \n&lt;/body&gt;\n&lt;script&gt;\n    \n    \n            var map_1ff1f79a3bfd33d590dab8749c5e613e = L.map(\n                &quot;map_1ff1f79a3bfd33d590dab8749c5e613e&quot;,\n                {\n                    center: [28.562302, -80.577356],\n                    crs: L.CRS.EPSG3857,\n                    zoom: 15,\n                    zoomControl: true,\n                    preferCanvas: false,\n                }\n            );\n\n            \n\n        \n    \n            var tile_layer_88ed2c20be590f242945c0538a753743 = L.tileLayer(\n                &quot;https://tile.openstreetmap.org/{z}/{x}/{y}.png&quot;,\n                {&quot;attribution&quot;: &quot;\\u0026copy; \\u003ca href=\\&quot;https://www.openstreetmap.org/copyright\\&quot;\\u003eOpenStreetMap\\u003c/a\\u003e contributors&quot;, &quot;detectRetina&quot;: false, &quot;maxNativeZoom&quot;: 19, &quot;maxZoom&quot;: 19, &quot;minZoom&quot;: 0, &quot;noWrap&quot;: false, &quot;opacity&quot;: 1, &quot;subdomains&quot;: &quot;abc&quot;, &quot;tms&quot;: false}\n            );\n        \n    \n            tile_layer_88ed2c20be590f242945c0538a753743.addTo(map_1ff1f79a3bfd33d590dab8749c5e613e);\n        \n    \n            var marker_a87d875df00804b68d8d4363105b8cef = L.marker(\n                [28.56172, -80.577356],\n                {}\n            ).addTo(map_1ff1f79a3bfd33d590dab8749c5e613e);\n        \n    \n            var div_icon_fac042f8d34d1f129f22b5d92c40a19e = L.divIcon({&quot;className&quot;: &quot;empty&quot;, &quot;html&quot;: &quot;\\u003cdiv style=\\&quot;font-size: 12; color:#d35400;\\&quot;\\u003e\\u003cb\\u003eDistance: 0.06 km\\u003c/b\\u003e\\u003c/div\\u003e&quot;, &quot;iconAnchor&quot;: [0, 0], &quot;iconSize&quot;: [20, 20]});\n            marker_a87d875df00804b68d8d4363105b8cef.setIcon(div_icon_fac042f8d34d1f129f22b5d92c40a19e);\n        \n    \n            var poly_line_328e3f6cfa928d2db4d8973363c411ad = L.polyline(\n                [[28.562302, -80.577356], [28.56172, -80.577356]],\n                {&quot;bubblingMouseEvents&quot;: true, &quot;color&quot;: &quot;blue&quot;, &quot;dashArray&quot;: null, &quot;dashOffset&quot;: null, &quot;fill&quot;: false, &quot;fillColor&quot;: &quot;blue&quot;, &quot;fillOpacity&quot;: 0.2, &quot;fillRule&quot;: &quot;evenodd&quot;, &quot;lineCap&quot;: &quot;round&quot;, &quot;lineJoin&quot;: &quot;round&quot;, &quot;noClip&quot;: false, &quot;opacity&quot;: 1.0, &quot;smoothFactor&quot;: 1.0, &quot;stroke&quot;: true, &quot;weight&quot;: 3}\n            ).addTo(map_1ff1f79a3bfd33d590dab8749c5e613e);\n        \n&lt;/script&gt;\n&lt;/html&gt;\" style=\"position:absolute;width:100%;height:100%;left:0;top:0;border:none !important;\" allowfullscreen webkitallowfullscreen mozallowfullscreen></iframe></div></div>"
          },
          "metadata": {}
        }
      ],
      "execution_count": 90
    },
    {
      "cell_type": "markdown",
      "source": "After you plot distance lines to the proximities, you can answer the following questions easily:\n\n*   Are launch sites in close proximity to railways?\n*   Are launch sites in close proximity to highways?\n*   Are launch sites in close proximity to coastline?\n*   Do launch sites keep certain distance away from cities?\n\nAlso please try to explain your findings.\n",
      "metadata": {}
    },
    {
      "cell_type": "markdown",
      "source": "# Next Steps:\n\nNow you have discovered many interesting insights related to the launch sites' location using folium, in a very interactive way. Next, you will need to build a dashboard using Ploty Dash on detailed launch records.\n",
      "metadata": {}
    },
    {
      "cell_type": "markdown",
      "source": "## Authors\n",
      "metadata": {}
    },
    {
      "cell_type": "markdown",
      "source": "[Pratiksha Verma](https://www.linkedin.com/in/pratiksha-verma-6487561b1/)\n",
      "metadata": {}
    },
    {
      "cell_type": "markdown",
      "source": "<!--## Change Log--!>\n",
      "metadata": {}
    },
    {
      "cell_type": "markdown",
      "source": "<!--| Date (YYYY-MM-DD) | Version | Changed By      | Change Description      |\n| ----------------- | ------- | -------------   | ----------------------- |\n| 2022-11-09        | 1.0     | Pratiksha Verma | Converted initial version to Jupyterlite|--!>\n",
      "metadata": {}
    },
    {
      "cell_type": "markdown",
      "source": "### <h3 align=\"center\"> IBM Corporation 2022. All rights reserved. <h3/>\n",
      "metadata": {}
    }
  ]
}